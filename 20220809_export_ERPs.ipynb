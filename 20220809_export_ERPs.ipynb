{
 "cells": [
  {
   "cell_type": "code",
   "execution_count": null,
   "metadata": {},
   "outputs": [],
   "source": [
    "import numpy as np\n",
    "import pandas as pd\n",
    "import matplotlib.pyplot as plt\n",
    "import os\n",
    "import mne\n",
    "%matplotlib qt\n",
    "from Globals import *"
   ]
  },
  {
   "cell_type": "code",
   "execution_count": null,
   "metadata": {},
   "outputs": [],
   "source": [
    "All_Sub_1_2_evks = {}\n",
    "All_Sub_2_2_evks = {}\n",
    "\n",
    "for Sub in Sublist_exp1:\n",
    "    os.chdir('D:\\\\Onedrive\\\\毕业论文\\\\实验数据\\\\实验一\\\\EEGs\\\\Sub_0' + Sub)\n",
    "    epoch_1_2 = mne.read_epochs('1_2_epochs_epo.fif',preload=True)\n",
    "    epoch_2_2 = mne.read_epochs('2_2_epochs_epo.fif', preload=True)\n",
    "    evk_1_2 = {}\n",
    "    evk_2_2 = {}\n",
    "    for i in list(epoch_1_2.event_id.keys()):\n",
    "        evk_1_2[i]= epoch_1_2[i].average()\n",
    "        evk_2_2[i] = epoch_2_2[i].average()\n",
    "    All_Sub_1_2_evks[Sub] = evk_1_2\n",
    "    All_Sub_2_2_evks[Sub] = evk_2_2\n",
    "    \n"
   ]
  },
  {
   "cell_type": "code",
   "execution_count": null,
   "metadata": {},
   "outputs": [],
   "source": [
    "condition_evk_1_2 = {}\n",
    "for cond in condition_list:\n",
    "    Ind_condition_evks = {}\n",
    "    for Sub in All_Sub_1_2_evks.keys():\n",
    "        Ind_evks = All_Sub_1_2_evks[Sub]\n",
    "        Ind_condition_evks[Sub] = Ind_evks[cond]\n",
    "    condition_evk_1_2[cond] = Ind_condition_evks\n",
    "\n",
    "\n",
    "condition_evk_2_2 = {}\n",
    "for cond in condition_list:\n",
    "    Ind_condition_evks = {}\n",
    "    for Sub in All_Sub_2_2_evks.keys():\n",
    "        Ind_evks = All_Sub_2_2_evks[Sub]\n",
    "        Ind_condition_evks[Sub] = Ind_evks[cond]\n",
    "    condition_evk_2_2[cond] = Ind_condition_evks\n",
    "        \n",
    "        \n",
    "\n",
    "\n"
   ]
  },
  {
   "cell_type": "code",
   "execution_count": null,
   "metadata": {},
   "outputs": [],
   "source": [
    "condition_evk_2_2"
   ]
  },
  {
   "cell_type": "code",
   "execution_count": null,
   "metadata": {},
   "outputs": [],
   "source": [
    "os.chdir('D:\\\\Onedrive\\\\毕业论文\\\\实验数据\\\\实验一\\\\evks_csv\\\\1_2')\n",
    "for cond in condition_evk_1_2.keys():\n",
    "    os.chdir('D:\\\\Onedrive\\\\毕业论文\\\\实验数据\\\\实验一\\\\evks_csv\\\\1_2')\n",
    "    os.mkdir(str(cond))\n",
    "    os.chdir(str(cond))\n",
    "    for sub in condition_evk_1_2[cond].keys():\n",
    "        per_evk = condition_evk_1_2[cond][sub]\n",
    "        per_evk =per_evk.to_data_frame()\n",
    "        per_evk.to_csv(str(sub) + '.csv')\n",
    "        "
   ]
  },
  {
   "cell_type": "code",
   "execution_count": null,
   "metadata": {},
   "outputs": [],
   "source": [
    "os.chdir('D:\\\\Onedrive\\\\毕业论文\\\\实验数据\\\\实验一\\\\evks_csv\\\\2_2')\n",
    "for cond in condition_evk_2_2.keys():\n",
    "    os.chdir('D:\\\\Onedrive\\\\毕业论文\\\\实验数据\\\\实验一\\\\evks_csv\\\\2_2')\n",
    "    os.mkdir(str(cond))\n",
    "    os.chdir(str(cond))\n",
    "    for sub in condition_evk_2_2[cond].keys():\n",
    "        per_evk = condition_evk_2_2[cond][sub]\n",
    "        per_evk =per_evk.to_data_frame()\n",
    "        per_evk.to_csv(str(sub) + '.csv')\n",
    "        "
   ]
  },
  {
   "cell_type": "code",
   "execution_count": null,
   "metadata": {},
   "outputs": [],
   "source": [
    "Joe_1_2_grand_evk = mne.grand_average(list(condition_evk_1_2['JoeFace'].values()))"
   ]
  },
  {
   "cell_type": "code",
   "execution_count": null,
   "metadata": {},
   "outputs": [],
   "source": [
    "Joe_2_2_grand_evk = mne.grand_average(list(condition_evk_2_2['JoeFace'].values()))"
   ]
  },
  {
   "cell_type": "code",
   "execution_count": null,
   "metadata": {},
   "outputs": [],
   "source": [
    "Joe_1_2_grand_evk.plot_joint(ts_args = dict(ylim = dict(eeg = [-10,10])))"
   ]
  },
  {
   "cell_type": "code",
   "execution_count": null,
   "metadata": {},
   "outputs": [],
   "source": [
    "Joe_2_2_grand_evk.plot_joint(ts_args = dict(ylim = dict(eeg = [-10,10])))"
   ]
  },
  {
   "cell_type": "code",
   "execution_count": null,
   "metadata": {},
   "outputs": [],
   "source": [
    "os.chdir('D:\\\\Onedrive\\\\毕业论文\\\\实验数据\\\\实验一')\n",
    "Joe_1_2_grand_evk.save('Joe_1_2_grand_ave.fif')\n",
    "Joe_2_2_grand_evk.save('Joe_2_2_grand_ave.fif')"
   ]
  },
  {
   "cell_type": "code",
   "execution_count": null,
   "metadata": {},
   "outputs": [],
   "source": [
    "Own_1_2_grand_evk = mne.grand_average(list(condition_evk_1_2['OwnFace'].values()))\n",
    "Own_2_2_grand_evk = mne.grand_average(list(condition_evk_2_2['OwnFace'].values()))"
   ]
  },
  {
   "cell_type": "code",
   "execution_count": null,
   "metadata": {},
   "outputs": [],
   "source": [
    "os.chdir('D:\\\\Onedrive\\\\毕业论文\\\\实验数据\\\\实验一')\n",
    "Own_1_2_grand_evk.save('Own_1_2_grand_ave.fif')\n",
    "Own_2_2_grand_evk.save('Own_2_2_grand_ave.fif')"
   ]
  },
  {
   "cell_type": "code",
   "execution_count": null,
   "metadata": {},
   "outputs": [],
   "source": [
    "Other1_1_2_grand_evk = mne.grand_average(list(condition_evk_1_2['OtherFace_1'].values()))\n",
    "Other1_2_2_grand_evk = mne.grand_average(list(condition_evk_2_2['OtherFace_1'].values()))"
   ]
  },
  {
   "cell_type": "code",
   "execution_count": null,
   "metadata": {},
   "outputs": [],
   "source": [
    "os.chdir('D:\\\\Onedrive\\\\毕业论文\\\\实验数据\\\\实验一')\n",
    "Other1_1_2_grand_evk.save('Other1_1_2_grand_ave.fif')\n",
    "Other1_2_2_grand_evk.save('Other1_2_2_grand_ave.fif')"
   ]
  },
  {
   "cell_type": "code",
   "execution_count": null,
   "metadata": {},
   "outputs": [],
   "source": [
    "Own_1_2_grand_evk.plot_joint(ts_args = dict(ylim = dict(eeg = [-10,10])))\n"
   ]
  },
  {
   "cell_type": "code",
   "execution_count": null,
   "metadata": {},
   "outputs": [],
   "source": [
    "mne.viz.plot_compare_evokeds([Joe_1_2_grand_evk,Joe_2_2_grand_evk], combine = 'mean', picks= ['P7','P8'])"
   ]
  },
  {
   "cell_type": "code",
   "execution_count": null,
   "metadata": {},
   "outputs": [],
   "source": [
    "mne.viz.plot_compare_evokeds([Own_1_2_grand_evk,Own_2_2_grand_evk], combine = 'mean', picks= ['P7','P8'])"
   ]
  },
  {
   "cell_type": "code",
   "execution_count": null,
   "metadata": {},
   "outputs": [],
   "source": [
    "mne.viz.plot_compare_evokeds([Other1_1_2_grand_evk,Other1_2_2_grand_evk], combine = 'mean', picks= ['P7','P8'])"
   ]
  },
  {
   "cell_type": "code",
   "execution_count": null,
   "metadata": {},
   "outputs": [],
   "source": []
  }
 ],
 "metadata": {
  "kernelspec": {
   "display_name": "Python 3.8.5 ('base')",
   "language": "python",
   "name": "python3"
  },
  "language_info": {
   "codemirror_mode": {
    "name": "ipython",
    "version": 3
   },
   "file_extension": ".py",
   "mimetype": "text/x-python",
   "name": "python",
   "nbconvert_exporter": "python",
   "pygments_lexer": "ipython3",
   "version": "3.8.5"
  },
  "orig_nbformat": 4,
  "vscode": {
   "interpreter": {
    "hash": "ad2bdc8ecc057115af97d19610ffacc2b4e99fae6737bb82f5d7fb13d2f2c186"
   }
  }
 },
 "nbformat": 4,
 "nbformat_minor": 2
}
