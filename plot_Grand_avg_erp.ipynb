{
 "cells": [
  {
   "cell_type": "code",
   "execution_count": 1,
   "metadata": {},
   "outputs": [],
   "source": [
    "import numpy as np\n",
    "import pandas as pd\n",
    "import seaborn\n",
    "import os\n",
    "import matplotlib.pyplot as plt\n",
    "from Globals import *\n",
    "%matplotlib qt\n",
    "import seaborn as sns\n",
    "\n",
    "PATH_1_2 = 'D:\\\\Onedrive\\\\毕业论文\\\\实验数据\\\\实验一\\\\evks_csv\\\\1_2'\n",
    "PATH_2_2 = 'D:\\\\Onedrive\\\\毕业论文\\\\实验数据\\\\实验一\\\\evks_csv\\\\2_2'"
   ]
  },
  {
   "cell_type": "code",
   "execution_count": 2,
   "metadata": {},
   "outputs": [],
   "source": [
    "os.chdir(path= PATH_1_2)\n",
    "vertical_data_1_2 = {}\n",
    "for cond in condition_list:\n",
    "    os.chdir(PATH_1_2 + '\\\\' + cond)\n",
    "    cond_vertical_data = pd.DataFrame()\n",
    "    for sub in Sublist_exp1:\n",
    "        sub_data = pd.read_csv(str(sub) + '.csv', index_col= 0)\n",
    "        sub_data['Left_Mean'] = (sub_data['PO7'] + sub_data['P7'])/2\n",
    "        sub_data['Right_Mean'] = (sub_data['PO8'] + sub_data['P8'])/2\n",
    "        cond_vertical_data = pd.concat([cond_vertical_data, sub_data], axis= 0)\n",
    "    vertical_data_1_2[cond] = cond_vertical_data\n",
    "\n",
    "        \n",
    "    \n",
    "os.chdir(path= PATH_2_2)\n",
    "vertical_data_2_2 = {}\n",
    "for cond in condition_list:\n",
    "    os.chdir(PATH_2_2 + '\\\\' + cond)\n",
    "    cond_vertical_data = pd.DataFrame()\n",
    "    for sub in Sublist_exp1:\n",
    "        sub_data = pd.read_csv(str(sub) + '.csv', index_col= 0)\n",
    "        sub_data['Left_Mean'] = (sub_data['PO7'] + sub_data['P7'])/2\n",
    "        sub_data['Right_Mean'] = (sub_data['PO8'] + sub_data['P8'])/2\n",
    "        cond_vertical_data = pd.concat([cond_vertical_data, sub_data], axis= 0)\n",
    "    vertical_data_2_2[cond] = cond_vertical_data\n"
   ]
  },
  {
   "cell_type": "code",
   "execution_count": 7,
   "metadata": {},
   "outputs": [],
   "source": [
    "fig, ax = plt.subplots()\n",
    "sns.lineplot(data = vertical_data_1_2['JoeFace'], x = 'time', y = 'Left_Mean', ci = 68, ax = ax, color = 'salmon', label = 'Joe_1_Left')\n",
    "sns.lineplot(data = vertical_data_1_2['JoeFace'], x = 'time', y = 'Right_Mean', ci = 68, ax = ax, color = 'tomato', label = 'Joe_1_Right')\n",
    "sns.lineplot(data = vertical_data_2_2['JoeFace'], x = 'time', y = 'Left_Mean', ci = 68, ax = ax, color = 'steelblue',label = 'Joe_2_Left')\n",
    "sns.lineplot(data = vertical_data_2_2['JoeFace'], x = 'time', y= 'Right_Mean', ci = 68, ax = ax, color = 'deepskyblue',label = 'Joe_2_Right')\n",
    "plt.legend()\n",
    "plt.show()"
   ]
  },
  {
   "cell_type": "code",
   "execution_count": 4,
   "metadata": {},
   "outputs": [],
   "source": [
    "fig, ax = plt.subplots()\n",
    "sns.lineplot(data = vertical_data_1_2['OwnFace'], x = 'time', y = 'Left_Mean', ci = 68, ax = ax, color = 'salmon',label = 'Own_1_Left')\n",
    "sns.lineplot(data = vertical_data_1_2['OwnFace'], x = 'time', y = 'Right_Mean', ci = 68, ax = ax, color = 'tomato',label = 'Own_1_Right')\n",
    "sns.lineplot(data = vertical_data_2_2['OwnFace'], x = 'time', y = 'Left_Mean', ci = 68, ax = ax, color = 'steelblue',label = 'Own_2_Left')\n",
    "sns.lineplot(data = vertical_data_2_2['OwnFace'], x = 'time', y= 'Right_Mean', ci = 68, ax = ax, color = 'deepskyblue',label = 'Own_2_Right')\n",
    "plt.legend()\n",
    "plt.show()"
   ]
  },
  {
   "cell_type": "code",
   "execution_count": 5,
   "metadata": {},
   "outputs": [],
   "source": [
    "fig, ax = plt.subplots()\n",
    "sns.lineplot(data = vertical_data_1_2['OtherFace_1'], x = 'time', y = 'Left_Mean', ci = 68, ax = ax, color = 'salmon',label = 'Other_1_Left')\n",
    "sns.lineplot(data = vertical_data_1_2['OtherFace_1'], x = 'time', y = 'Right_Mean', ci = 68, ax = ax, color = 'tomato',label = 'Other_1_Right')\n",
    "sns.lineplot(data = vertical_data_2_2['OtherFace_1'], x = 'time', y = 'Left_Mean', ci = 68, ax = ax, color = 'steelblue',label = 'Other_2_Left')\n",
    "sns.lineplot(data = vertical_data_2_2['OtherFace_1'], x = 'time', y= 'Right_Mean', ci = 68, ax = ax, color = 'deepskyblue',label = 'Other_2_Right')\n",
    "plt.legend()\n",
    "plt.show()"
   ]
  },
  {
   "cell_type": "code",
   "execution_count": 12,
   "metadata": {},
   "outputs": [],
   "source": [
    "fig, ax = plt.subplots()\n",
    "\n",
    "sns.lineplot(data = vertical_data_2_2['OwnFace'], x = 'time', y = 'Left_Mean', ci = 68, ax = ax, color = 'steelblue',label = 'Own_2_Left')\n",
    "sns.lineplot(data = vertical_data_2_2['OwnFace'], x = 'time', y= 'Right_Mean', ci = 68, ax = ax, color = 'deepskyblue',label = 'Own_2_Right')\n",
    "\n",
    "sns.lineplot(data = vertical_data_2_2['JoeFace'], x = 'time', y = 'Left_Mean', ci = 68, ax = ax, color = 'salmon',label = 'Joe_2_Left')\n",
    "sns.lineplot(data = vertical_data_2_2['JoeFace'], x = 'time', y= 'Right_Mean', ci = 68, ax = ax, color = 'tomato',label = 'Joe_2_Right')\n",
    "\n",
    "plt.axvline(x = 130, linestyle = '--', c = 'black', linewidth = 1)\n",
    "plt.axvline(x = 210, linestyle = '--', c = 'black', linewidth = 1)\n",
    "plt.axvline(x = 230, linestyle = '--', c = 'black', linewidth = 1)\n",
    "plt.axvline(x = 320, linestyle = '--', c = 'black', linewidth = 1)\n",
    "\n",
    "\n",
    "plt.legend()\n",
    "plt.show()"
   ]
  },
  {
   "cell_type": "code",
   "execution_count": 13,
   "metadata": {},
   "outputs": [],
   "source": [
    "fig, ax = plt.subplots()\n",
    "\n",
    "sns.lineplot(data = vertical_data_1_2['OwnFace'], x = 'time', y = 'Left_Mean', ci = 68, ax = ax, color = 'steelblue',label = 'Own_1_Left')\n",
    "sns.lineplot(data = vertical_data_1_2['OwnFace'], x = 'time', y= 'Right_Mean', ci = 68, ax = ax, color = 'deepskyblue',label = 'Own_1_Right')\n",
    "\n",
    "sns.lineplot(data = vertical_data_1_2['JoeFace'], x = 'time', y = 'Left_Mean', ci = 68, ax = ax, color = 'salmon',label = 'Joe_1_Left')\n",
    "sns.lineplot(data = vertical_data_1_2['JoeFace'], x = 'time', y= 'Right_Mean', ci = 68, ax = ax, color = 'tomato',label = 'Joe_1_Right')\n",
    "\n",
    "plt.axvline(x = 130, linestyle = '--', c = 'black', linewidth = 1)\n",
    "plt.axvline(x = 210, linestyle = '--', c = 'black', linewidth = 1)\n",
    "plt.axvline(x = 230, linestyle = '--', c = 'black', linewidth = 1)\n",
    "plt.axvline(x = 320, linestyle = '--', c = 'black', linewidth = 1)\n",
    "\n",
    "\n",
    "plt.legend()\n",
    "plt.show()"
   ]
  },
  {
   "cell_type": "code",
   "execution_count": null,
   "metadata": {},
   "outputs": [],
   "source": []
  }
 ],
 "metadata": {
  "kernelspec": {
   "display_name": "Python 3.8.5 ('base')",
   "language": "python",
   "name": "python3"
  },
  "language_info": {
   "codemirror_mode": {
    "name": "ipython",
    "version": 3
   },
   "file_extension": ".py",
   "mimetype": "text/x-python",
   "name": "python",
   "nbconvert_exporter": "python",
   "pygments_lexer": "ipython3",
   "version": "3.8.5"
  },
  "orig_nbformat": 4,
  "vscode": {
   "interpreter": {
    "hash": "ad2bdc8ecc057115af97d19610ffacc2b4e99fae6737bb82f5d7fb13d2f2c186"
   }
  }
 },
 "nbformat": 4,
 "nbformat_minor": 2
}
