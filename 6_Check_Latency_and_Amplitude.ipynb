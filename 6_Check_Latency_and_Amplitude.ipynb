{
 "cells": [
  {
   "cell_type": "code",
   "execution_count": 1,
   "metadata": {},
   "outputs": [],
   "source": [
    "import numpy as np\n",
    "import pandas as pd\n",
    "import os \n",
    "import seaborn as sns\n",
    "import matplotlib.pyplot as plt\n",
    "from Globals import *\n",
    "%matplotlib qt"
   ]
  },
  {
   "cell_type": "code",
   "execution_count": null,
   "metadata": {},
   "outputs": [],
   "source": [
    "os.chdir('D:\\\\Onedrive\\\\毕业论文\\\\实验数据\\\\实验一\\\\evks_csv\\\\1_2\\\\JoeFace')\n",
    "data = pd.read_csv('6.csv', index_col= 0)"
   ]
  },
  {
   "cell_type": "code",
   "execution_count": null,
   "metadata": {},
   "outputs": [],
   "source": [
    "# Plot N170 \n",
    "from cProfile import label\n",
    "from turtle import color\n",
    "\n",
    "\n",
    "fig, ax = plt.subplots()\n",
    "sns.lineplot(x = 'time', y = 'P7', data = data, ax = ax, color = 'cyan', label = 'P7')\n",
    "sns.lineplot(x = 'time', y = 'PO7', data = data, ax = ax, color = 'b',linestyle = '--', label = 'PO7')\n",
    "sns.lineplot(x = 'time', y = 'P8', data = data, ax = ax, color = 'salmon', label = 'P8')\n",
    "sns.lineplot(x = 'time', y = 'PO8', data = data, ax = ax, color = 'r', label = 'PO8',linestyle = '--')\n",
    "plt.axvline(x= 130,color = 'k', linewidth = 1, linestyle = '--')\n",
    "plt.axvline(x= 210,color = 'k', linewidth = 1, linestyle = '--')\n",
    "plt.axhline(y = 0, color = 'k', linewidth = 1)\n",
    "plt.legend()\n",
    "plt.plot()"
   ]
  },
  {
   "cell_type": "code",
   "execution_count": null,
   "metadata": {},
   "outputs": [],
   "source": [
    "# Plot N250\n",
    "Left_n250_data = data[['TP9', 'P7', 'PO7',  'O1']]\n",
    "Left_n250_data['Left_mean'] = (data.TP9 + data.P7 + data.PO7 + data.O1)/4\n",
    "Left_n250_data['time'] = data.time\n",
    "\n",
    "Right_n250_data = data[['TP10', 'P8', 'PO8' , 'O2']]\n",
    "Right_n250_data['Right_mean'] = (data.TP10 + data.P8 + data.PO8 + data.O2)/4\n",
    "Right_n250_data['time'] = data.time\n",
    "\n",
    "fig, ax = plt.subplots()\n",
    "sns.lineplot(x = 'time', y = 'Right_mean', data = Right_n250_data, ax = ax, color = 'cyan', label = 'Right')\n",
    "sns.lineplot(x = 'time', y = 'Left_mean', data = Left_n250_data, ax = ax, color = 'salmon', label = 'Left')\n",
    "\n",
    "plt.axvline(x= 230,color = 'k', linewidth = 1, linestyle = '--')\n",
    "plt.axvline(x= 320,color = 'k', linewidth = 1, linestyle = '--')\n",
    "plt.axhline(y = 0, color = 'k', linewidth = 1)\n",
    "plt.legend()\n",
    "plt.plot()\n"
   ]
  },
  {
   "cell_type": "code",
   "execution_count": 3,
   "metadata": {},
   "outputs": [],
   "source": [
    "############################\n",
    "########## N170 ############\n",
    "\n",
    "cond_n170_dict = {}\n",
    "for cond in condition_list:\n",
    "\n",
    "    ########################################################################### ⬇️ 这里需要改 #######\n",
    "    os.chdir('/Volumes/Media/毕业论文/实验二_分析/One_Third_split/evks_csv/Amp&Latency/2_3/' +  cond)\n",
    "    cond_data = pd.read_csv('N170_amp.csv')\n",
    "    cond_data['Left_N170_' + cond] = (cond_data['P7'] + cond_data['PO7']) / 2\n",
    "    cond_data['Right_N170_' + cond] = (cond_data['P8'] + cond_data['PO8']) / 2\n",
    "    cond_data_out = cond_data[['Left_N170_' + cond, 'Right_N170_' + cond]]\n",
    "    cond_n170_dict[cond] = cond_data_out\n",
    "N170_DATA = pd.concat(cond_n170_dict.values(), axis= 1)\n",
    "\n",
    "############################################################## ⬇️ 这里需要改 #######\n",
    "os.chdir('/Volumes/Media/毕业论文/实验二_分析/One_Third_split/evks_csv/Amp&Latency/')\n",
    "N170_DATA.to_csv('N170_2_3.csv')"
   ]
  },
  {
   "cell_type": "code",
   "execution_count": 5,
   "metadata": {},
   "outputs": [],
   "source": [
    "############################\n",
    "########## N250 ############\n",
    "\n",
    "\n",
    "cond_n250_dict = {}\n",
    "for cond in condition_list:\n",
    "    ########################################################################### ⬇️ 这里需要改 #######\n",
    "    os.chdir('/Volumes/Media/毕业论文/实验二_分析/One_Third_split/evks_csv/Amp&Latency/1_3/' +  cond)\n",
    "    cond_data = pd.read_csv('N250_amp.csv')\n",
    "    cond_data['Left_N250_' + cond] = (cond_data['P7'] + cond_data['PO7'] + cond_data['TP9'] + cond_data['O1']) / 4\n",
    "    cond_data['Right_N250_' + cond] = (cond_data['P8'] + cond_data['PO8'] + cond_data['TP10'] + cond_data['O2']) / 4\n",
    "    cond_data_out = cond_data[['Left_N250_' + cond, 'Right_N250_' + cond]]\n",
    "    cond_n250_dict[cond] = cond_data_out\n",
    "N250_DATA = pd.concat(cond_n250_dict.values(), axis = 1)\n",
    "\n",
    "############################################################## ⬇️ 这里需要改 #######\n",
    "os.chdir('/Volumes/Media/毕业论文/实验二_分析/One_Third_split/evks_csv/Amp&Latency')\n",
    "N250_DATA.to_csv('N250_1_3.csv')\n"
   ]
  },
  {
   "cell_type": "code",
   "execution_count": 7,
   "metadata": {},
   "outputs": [],
   "source": [
    "############################\n",
    "########## N170_latency ############\n",
    "\n",
    "\n",
    "cond_n170_latency_dict = {}\n",
    "for cond in condition_list:\n",
    "    ########################################################################### ⬇️ 这里需要改 #######\n",
    "    os.chdir('/Volumes/Media/毕业论文/实验二_分析/One_Third_split/evks_csv/Amp&Latency/1_3/' +  cond)\n",
    "    cond_data = pd.read_csv('N170_latency.csv')\n",
    "    cond_data['Left_N170_LATENCY_' + cond] = (cond_data['P7'] + cond_data['PO7']) / 2\n",
    "    cond_data['Right_N170_LATENCY_' + cond] = (cond_data['P8'] + cond_data['PO8'] ) / 2\n",
    "    cond_data_out = cond_data[['Left_N170_LATENCY_' + cond, 'Right_N170_LATENCY_' + cond]]\n",
    "    cond_n170_latency_dict[cond] = cond_data_out\n",
    "N170_LATENCY_DATA = pd.concat(cond_n170_latency_dict.values(), axis = 1)\n",
    "\n",
    "############################################################## ⬇️ 这里需要改 #######\n",
    "os.chdir('/Volumes/Media/毕业论文/实验二_分析/One_Third_split/evks_csv/Amp&Latency')\n",
    "N170_LATENCY_DATA.to_csv('N170_LAT_1_3.csv')"
   ]
  },
  {
   "cell_type": "code",
   "execution_count": null,
   "metadata": {},
   "outputs": [],
   "source": []
  }
 ],
 "metadata": {
  "kernelspec": {
   "display_name": "Python 3.8.8 ('base')",
   "language": "python",
   "name": "python3"
  },
  "language_info": {
   "codemirror_mode": {
    "name": "ipython",
    "version": 3
   },
   "file_extension": ".py",
   "mimetype": "text/x-python",
   "name": "python",
   "nbconvert_exporter": "python",
   "pygments_lexer": "ipython3",
   "version": "3.8.8"
  },
  "orig_nbformat": 4,
  "vscode": {
   "interpreter": {
    "hash": "3ed695ad26f8d5f1293dce98a347c72fd779f35bb58c08f3d5c1f85f670c287e"
   }
  }
 },
 "nbformat": 4,
 "nbformat_minor": 2
}
