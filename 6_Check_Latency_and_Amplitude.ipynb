{
 "cells": [
  {
   "cell_type": "code",
   "execution_count": 1,
   "metadata": {},
   "outputs": [],
   "source": [
    "import numpy as np\n",
    "import pandas as pd\n",
    "import os \n",
    "import seaborn as sns\n",
    "import matplotlib.pyplot as plt\n",
    "from Globals import *\n",
    "%matplotlib qt"
   ]
  },
  {
   "cell_type": "code",
   "execution_count": 8,
   "metadata": {},
   "outputs": [],
   "source": [
    "os.chdir('D:\\\\Onedrive\\\\毕业论文\\\\实验数据\\\\实验一\\\\evks_csv\\\\1_2\\\\JoeFace')\n",
    "data = pd.read_csv('6.csv', index_col= 0)"
   ]
  },
  {
   "cell_type": "code",
   "execution_count": 9,
   "metadata": {},
   "outputs": [
    {
     "data": {
      "text/plain": [
       "[]"
      ]
     },
     "execution_count": 9,
     "metadata": {},
     "output_type": "execute_result"
    }
   ],
   "source": [
    "# Plot N170 \n",
    "from cProfile import label\n",
    "from turtle import color\n",
    "\n",
    "\n",
    "fig, ax = plt.subplots()\n",
    "sns.lineplot(x = 'time', y = 'P7', data = data, ax = ax, color = 'cyan', label = 'P7')\n",
    "sns.lineplot(x = 'time', y = 'PO7', data = data, ax = ax, color = 'b',linestyle = '--', label = 'PO7')\n",
    "sns.lineplot(x = 'time', y = 'P8', data = data, ax = ax, color = 'salmon', label = 'P8')\n",
    "sns.lineplot(x = 'time', y = 'PO8', data = data, ax = ax, color = 'r', label = 'PO8',linestyle = '--')\n",
    "plt.axvline(x= 130,color = 'k', linewidth = 1, linestyle = '--')\n",
    "plt.axvline(x= 210,color = 'k', linewidth = 1, linestyle = '--')\n",
    "plt.axhline(y = 0, color = 'k', linewidth = 1)\n",
    "plt.legend()\n",
    "plt.plot()"
   ]
  },
  {
   "cell_type": "code",
   "execution_count": null,
   "metadata": {},
   "outputs": [],
   "source": [
    "# Plot N250\n",
    "Left_n250_data = data[['TP9', 'P7', 'PO7',  'O1']]\n",
    "Left_n250_data['Left_mean'] = (data.TP9 + data.P7 + data.PO7 + data.O1)/4\n",
    "Left_n250_data['time'] = data.time\n",
    "\n",
    "Right_n250_data = data[['TP10', 'P8', 'PO8' , 'O2']]\n",
    "Right_n250_data['Right_mean'] = (data.TP10 + data.P8 + data.PO8 + data.O2)/4\n",
    "Right_n250_data['time'] = data.time\n",
    "\n",
    "fig, ax = plt.subplots()\n",
    "sns.lineplot(x = 'time', y = 'Right_mean', data = Right_n250_data, ax = ax, color = 'cyan', label = 'Right')\n",
    "sns.lineplot(x = 'time', y = 'Left_mean', data = Left_n250_data, ax = ax, color = 'salmon', label = 'Left')\n",
    "\n",
    "plt.axvline(x= 230,color = 'k', linewidth = 1, linestyle = '--')\n",
    "plt.axvline(x= 320,color = 'k', linewidth = 1, linestyle = '--')\n",
    "plt.axhline(y = 0, color = 'k', linewidth = 1)\n",
    "plt.legend()\n",
    "plt.plot()\n"
   ]
  },
  {
   "cell_type": "code",
   "execution_count": null,
   "metadata": {},
   "outputs": [],
   "source": []
  }
 ],
 "metadata": {
  "kernelspec": {
   "display_name": "Python 3.8.8 ('base')",
   "language": "python",
   "name": "python3"
  },
  "language_info": {
   "codemirror_mode": {
    "name": "ipython",
    "version": 3
   },
   "file_extension": ".py",
   "mimetype": "text/x-python",
   "name": "python",
   "nbconvert_exporter": "python",
   "pygments_lexer": "ipython3",
   "version": "3.8.8"
  },
  "orig_nbformat": 4,
  "vscode": {
   "interpreter": {
    "hash": "3ed695ad26f8d5f1293dce98a347c72fd779f35bb58c08f3d5c1f85f670c287e"
   }
  }
 },
 "nbformat": 4,
 "nbformat_minor": 2
}
