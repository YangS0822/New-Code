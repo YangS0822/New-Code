{
 "cells": [
  {
   "cell_type": "code",
   "execution_count": 1,
   "metadata": {},
   "outputs": [],
   "source": [
    "# import & 文件路径\n",
    "import mne\n",
    "import matplotlib.pyplot as plt\n",
    "import numpy as np\n",
    "import pandas as pd\n",
    "import os\n",
    "from Globals import *\n",
    "from mne.preprocessing import ICA, create_eog_epochs\n",
    "import csv\n",
    "%matplotlib qt"
   ]
  },
  {
   "cell_type": "code",
   "execution_count": null,
   "metadata": {},
   "outputs": [],
   "source": [
    "os.chdir('D:\\\\Onedrive\\\\毕业论文\\\\实验数据\\\\实验2数据\\\\pre\\\\Sub_08')\n",
    "raw = mne.io.read_raw_brainvision('08.vhdr', eog = ['EOG'], preload = True)\n",
    "raw.set_eeg_reference('average', ch_type = 'eeg')\n",
    "raw.set_montage('standard_1020')\n",
    "\n",
    "# 添加坏导\n",
    "raw.info['bads'].append('AF8')\n",
    "#raw.info['bads'].append('C2')\n",
    "#raw.info['bads']\n",
    "\n",
    "# 插值坏导\n",
    "raw.interpolate_bads()\n",
    "\n",
    "# 将原始文件中的 annotation 读入 raw_annot 中；\n",
    "raw_annot = raw.annotations\n",
    "# make_relax_annotation 函数将 marker 之间间隔超过4.5秒的数据作为休息时间进行标记；\n",
    "bad_relax_annot = make_relax_annotations(raw)\n",
    "#将休息时间与原始的 annotation 合并；\n",
    "raw.set_annotations(raw_annot + bad_relax_annot)\n",
    "#crop_raw_relax函数对实验末尾的休息时间进行标记；\n",
    "crop_raw_relax(raw)\n",
    "\n",
    "raw.filter(0.1,40)\n",
    "raw_for_ica = raw.copy().filter(1,40)"
   ]
  },
  {
   "cell_type": "code",
   "execution_count": null,
   "metadata": {},
   "outputs": [],
   "source": [
    "print(os.getcwd())\n",
    "ica = mne.preprocessing.read_ica('ica-ica.fif')\n",
    "ica.plot_components()"
   ]
  },
  {
   "cell_type": "code",
   "execution_count": null,
   "metadata": {},
   "outputs": [],
   "source": [
    "ica.plot_properties(raw_for_ica,[0,1,2,7,8,16])"
   ]
  },
  {
   "cell_type": "code",
   "execution_count": null,
   "metadata": {},
   "outputs": [],
   "source": [
    "ica.exclude = [16,7,2,1,0]\n",
    "ica.apply(raw)"
   ]
  },
  {
   "cell_type": "code",
   "execution_count": null,
   "metadata": {},
   "outputs": [],
   "source": [
    "# 从原始数据的 annotation 中读取 events(包含marker及对应时间点的数组) & event_id(marker名称列表)\n",
    "events, event_id = mne.events_from_annotations(raw)\n",
    "\n",
    "# get_corrected_events 函数删除 events 中错误反应以及错误反应对应的刺激marker；\n",
    "corrected_events = get_corrected_events(events)\n",
    "# 可视化校正后的 events;\n",
    "mne.viz.plot_events(corrected_events)\n",
    "# 对 events 进行切片；\n",
    "event_1_third , event_2_third = crop_raw_1third_v2(corrected_events)\n",
    "event_1_two, event_2_two = crop_raw_1two(corrected_events)\n",
    "\n",
    "# 对切片后的raw数据进行分段；\n",
    "epochs_1_third = mne.Epochs(raw, events= event_1_third,event_id = eventdict_1 , reject= dict(eeg = MAX_PEAK2PEAK), tmax= 0.5, tmin = -0.2, preload = True)\n",
    "epochs_2_third = mne.Epochs(raw, events= event_2_third, event_id = eventdict_1 , reject= dict(eeg = MAX_PEAK2PEAK), tmax= 0.5, tmin = -0.2, preload = True)\n",
    "epochs_1_two = mne.Epochs(raw, events= event_1_two, event_id = eventdict_1 , reject= dict(eeg = MAX_PEAK2PEAK), tmax= 0.5, tmin = -0.2, preload = True)\n",
    "epochs_2_two = mne.Epochs(raw, events= event_2_two, event_id = eventdict_1 , reject= dict(eeg = MAX_PEAK2PEAK), tmax= 0.5, tmin = -0.2, preload = True)\n",
    "# 完整数据分段\n",
    "epochs_all = mne.Epochs(raw, events = corrected_events,event_id = eventdict_1,  reject= dict(eeg = MAX_PEAK2PEAK), tmax= 0.5, tmin = -0.2, preload = True )\n",
    "\n",
    "epochs_1_third.save('1_3_epochs_epo.fif', overwrite = True)\n",
    "epochs_2_third.save('2_3_epochs_epo.fif', overwrite = True)\n",
    "epochs_1_two.save('1_2_epochs_epo.fif', overwrite = True)\n",
    "epochs_2_two.save('2_2_epochs_epo.fif', overwrite = True)\n",
    "epochs_all.save('epochs_all_epo.fif', overwrite = True)"
   ]
  },
  {
   "cell_type": "code",
   "execution_count": null,
   "metadata": {},
   "outputs": [],
   "source": []
  }
 ],
 "metadata": {
  "kernelspec": {
   "display_name": "Python 3.8.5 ('base')",
   "language": "python",
   "name": "python3"
  },
  "language_info": {
   "codemirror_mode": {
    "name": "ipython",
    "version": 3
   },
   "file_extension": ".py",
   "mimetype": "text/x-python",
   "name": "python",
   "nbconvert_exporter": "python",
   "pygments_lexer": "ipython3",
   "version": "3.8.5"
  },
  "orig_nbformat": 4,
  "vscode": {
   "interpreter": {
    "hash": "ad2bdc8ecc057115af97d19610ffacc2b4e99fae6737bb82f5d7fb13d2f2c186"
   }
  }
 },
 "nbformat": 4,
 "nbformat_minor": 2
}
