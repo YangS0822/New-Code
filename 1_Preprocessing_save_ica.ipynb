{
 "cells": [
  {
   "cell_type": "code",
   "execution_count": null,
   "metadata": {},
   "outputs": [],
   "source": [
    "# import & 文件路径\n",
    "import mne\n",
    "import matplotlib.pyplot as plt\n",
    "import numpy as np\n",
    "import pandas as pd\n",
    "import os\n",
    "from Globals import *\n",
    "from mne.preprocessing import ICA, create_eog_epochs\n",
    "import csv\n",
    "%matplotlib qt\n",
    "\n",
    "\n",
    "PATH = '/Volumes/Media/毕业论文/实验2数据/pre'"
   ]
  },
  {
   "cell_type": "code",
   "execution_count": null,
   "metadata": {},
   "outputs": [],
   "source": [
    "for sub in Sublist_exp2_ica:\n",
    "    os.chdir(PATH)\n",
    "    filename = 'Sub_0' + sub\n",
    "    eegname = '0' + sub + '.vhdr'\n",
    "    os.chdir(filename)\n",
    "    raw = mne.io.read_raw_brainvision(eegname, eog = ['EOG'], preload = True)\n",
    "    raw.set_eeg_reference('average', ch_type = 'eeg')\n",
    "    raw.set_montage('standard_1020')\n",
    "    # 将原始文件中的 annotation 读入 raw_annot 中；\n",
    "    raw_annot = raw.annotations\n",
    "    # make_relax_annotation 函数将 marker 之间间隔超过4.5秒的数据作为休息时间进行标记；\n",
    "    bad_relax_annot = make_relax_annotations(raw)   \n",
    "    #将休息时间与原始的 annotation 合并；\n",
    "    raw.set_annotations(raw_annot + bad_relax_annot)\n",
    "    #crop_raw_relax函数对实验末尾的休息时间进行标记；\n",
    "    crop_raw_relax(raw)\n",
    "    if sub in exp2_bad.keys():\n",
    "        if sub == '36':\n",
    "            pass\n",
    "        else:\n",
    "            print(sub)\n",
    "            print('is_bad')\n",
    "            raw.info['bads'].append(exp2_bad[sub])\n",
    "            raw.interpolate_bads()\n",
    "    # 复制raw数据为 raw_for_ica 用于 ica; ica 数据进行 1,40 带通\n",
    "    raw_for_ica = raw.copy().filter(1.,40)\n",
    "    # 对原始数据进行 0.1,40 带通（用于实际分段）\n",
    "    raw.filter(0.1,40)\n",
    "    # 对 raw_for_ica 实例进行 ica 运算；\n",
    "    print('now in' + sub + '/8')\n",
    "    ica = mne.preprocessing.ICA(n_components = 0.999999,method = 'picard', max_iter= 1000, random_state= 42)\n",
    "    ica.fit(raw_for_ica)\n",
    "    #eog_epochs = create_eog_epochs(raw_for_ica)\n",
    "    # 根据ica结果和相关系数来找出与EOG活动相关的ICA成分, threshold参数设定判断outlier的Z-socre\n",
    "    eog_inds, scores = ica.find_bads_eog(raw_for_ica, threshold= 2)\n",
    "    # 返回 eog_inds 为对应 ica 成分的index\n",
    "    \n",
    "    mne.preprocessing.ICA.save(ica, fname = 'ica-ica.fif', overwrite = True)\n",
    "\n"
   ]
  },
  {
   "cell_type": "code",
   "execution_count": null,
   "metadata": {},
   "outputs": [],
   "source": []
  },
  {
   "cell_type": "code",
   "execution_count": null,
   "metadata": {},
   "outputs": [],
   "source": []
  }
 ],
 "metadata": {
  "kernelspec": {
   "display_name": "Python 3.8.8 ('base')",
   "language": "python",
   "name": "python3"
  },
  "language_info": {
   "codemirror_mode": {
    "name": "ipython",
    "version": 3
   },
   "file_extension": ".py",
   "mimetype": "text/x-python",
   "name": "python",
   "nbconvert_exporter": "python",
   "pygments_lexer": "ipython3",
   "version": "3.8.8"
  },
  "orig_nbformat": 4,
  "vscode": {
   "interpreter": {
    "hash": "3ed695ad26f8d5f1293dce98a347c72fd779f35bb58c08f3d5c1f85f670c287e"
   }
  }
 },
 "nbformat": 4,
 "nbformat_minor": 2
}
