{
 "cells": [
  {
   "cell_type": "code",
   "execution_count": 21,
   "metadata": {},
   "outputs": [
    {
     "data": {
      "text/plain": [
       "'%r'"
      ]
     },
     "execution_count": 21,
     "metadata": {},
     "output_type": "execute_result"
    }
   ],
   "source": [
    "import pandas as pd\n",
    "from statsmodels.stats.anova import AnovaRM\n",
    "import os\n",
    "import numpy as np\n",
    "from Globals import *\n",
    "np.set_printoptions(precision=4)\n",
    "%precision"
   ]
  },
  {
   "cell_type": "code",
   "execution_count": null,
   "metadata": {},
   "outputs": [],
   "source": [
    "os.chdir('/Volumes/Media/毕业论文/实验一_分析/Half_split/evks_csv/Amp&Latency/')"
   ]
  },
  {
   "cell_type": "code",
   "execution_count": null,
   "metadata": {},
   "outputs": [],
   "source": [
    "# PART 1\n",
    "### REFORMAT THE DATA\n",
    "data = pd.read_csv('N170_1_2.csv', index_col= 0)\n",
    "REFORMAT_DATA = pd.DataFrame(columns=['number', 'Hemisphere', 'Condition', 'PART','AMP'])\n",
    "for sub in data.index:\n",
    "    for col in data.columns:\n",
    "        for cond in condition_list:\n",
    "            if cond in str(col):\n",
    "                Condition = cond\n",
    "        if 'Left' in str(col):\n",
    "            Hemisphere = 'Left'\n",
    "        elif 'Right' in str(col):\n",
    "            Hemisphere = 'Right'\n",
    "        AMP = data.loc[sub][col]\n",
    "        ### PART ⬇️\n",
    "        PART = 1\n",
    "        number = sub\n",
    "    \n",
    "        REFORMAT_DATA.loc[len(REFORMAT_DATA.index)] = [number,Hemisphere,Condition,PART,AMP]\n"
   ]
  },
  {
   "cell_type": "code",
   "execution_count": null,
   "metadata": {},
   "outputs": [],
   "source": [
    "os.chdir('Reformat_for_Python')\n",
    "REFORMAT_DATA.to_csv('N170_1_2.csv')"
   ]
  },
  {
   "cell_type": "code",
   "execution_count": null,
   "metadata": {},
   "outputs": [],
   "source": [
    "# PART 2\n",
    "\n",
    "### REFORMAT THE DATA\n",
    "data = pd.read_csv('N170_2_2.csv', index_col= 0)\n",
    "\n",
    "\n",
    "REFORMAT_DATA = pd.DataFrame(columns=['number', 'Hemisphere', 'Condition', 'PART','AMP'])\n",
    "for sub in data.index:\n",
    "    for col in data.columns:\n",
    "        for cond in condition_list:\n",
    "            if cond in str(col):\n",
    "                Condition = cond\n",
    "        if 'Left' in str(col):\n",
    "            Hemisphere = 'Left'\n",
    "        elif 'Right' in str(col):\n",
    "            Hemisphere = 'Right'\n",
    "        AMP = data.loc[sub][col]\n",
    "        ### PART ⬇️\n",
    "        PART = 2\n",
    "        number = sub\n",
    "    \n",
    "        REFORMAT_DATA.loc[len(REFORMAT_DATA.index)] = [number,Hemisphere,Condition,PART,AMP]\n",
    "\n",
    "\n",
    "os.chdir('Reformat_for_Python')\n",
    "REFORMAT_DATA.to_csv('N170_2_2.csv')"
   ]
  },
  {
   "cell_type": "code",
   "execution_count": 13,
   "metadata": {},
   "outputs": [],
   "source": [
    "### Repeat Measures ANOVA 3-way\n",
    "import pingouin as pg\n",
    "os.chdir('/Volumes/Media/毕业论文/实验一_分析/Half_split/evks_csv/Amp&Latency/Reformat_for_Python')\n",
    "data_part1 = pd.read_csv('N170_1_2.csv', index_col= 0)\n",
    "data_part2 = pd.read_csv('N170_2_2.csv', index_col= 0)"
   ]
  },
  {
   "cell_type": "code",
   "execution_count": 14,
   "metadata": {},
   "outputs": [],
   "source": [
    "concated_data = pd.concat([data_part1,data_part2], axis = 0)"
   ]
  },
  {
   "cell_type": "code",
   "execution_count": 15,
   "metadata": {},
   "outputs": [
    {
     "data": {
      "text/html": [
       "<div>\n",
       "<style scoped>\n",
       "    .dataframe tbody tr th:only-of-type {\n",
       "        vertical-align: middle;\n",
       "    }\n",
       "\n",
       "    .dataframe tbody tr th {\n",
       "        vertical-align: top;\n",
       "    }\n",
       "\n",
       "    .dataframe thead th {\n",
       "        text-align: right;\n",
       "    }\n",
       "</style>\n",
       "<table border=\"1\" class=\"dataframe\">\n",
       "  <thead>\n",
       "    <tr style=\"text-align: right;\">\n",
       "      <th></th>\n",
       "      <th>number</th>\n",
       "      <th>Hemisphere</th>\n",
       "      <th>Condition</th>\n",
       "      <th>PART</th>\n",
       "      <th>AMP</th>\n",
       "    </tr>\n",
       "  </thead>\n",
       "  <tbody>\n",
       "    <tr>\n",
       "      <th>0</th>\n",
       "      <td>0</td>\n",
       "      <td>Left</td>\n",
       "      <td>OtherFace_1</td>\n",
       "      <td>1</td>\n",
       "      <td>-3.834377</td>\n",
       "    </tr>\n",
       "    <tr>\n",
       "      <th>1</th>\n",
       "      <td>0</td>\n",
       "      <td>Right</td>\n",
       "      <td>OtherFace_1</td>\n",
       "      <td>1</td>\n",
       "      <td>-4.614921</td>\n",
       "    </tr>\n",
       "    <tr>\n",
       "      <th>2</th>\n",
       "      <td>0</td>\n",
       "      <td>Left</td>\n",
       "      <td>OtherFace_2</td>\n",
       "      <td>1</td>\n",
       "      <td>-4.583709</td>\n",
       "    </tr>\n",
       "    <tr>\n",
       "      <th>3</th>\n",
       "      <td>0</td>\n",
       "      <td>Right</td>\n",
       "      <td>OtherFace_2</td>\n",
       "      <td>1</td>\n",
       "      <td>-7.705107</td>\n",
       "    </tr>\n",
       "    <tr>\n",
       "      <th>4</th>\n",
       "      <td>0</td>\n",
       "      <td>Left</td>\n",
       "      <td>OtherFace_3</td>\n",
       "      <td>1</td>\n",
       "      <td>-3.695441</td>\n",
       "    </tr>\n",
       "    <tr>\n",
       "      <th>...</th>\n",
       "      <td>...</td>\n",
       "      <td>...</td>\n",
       "      <td>...</td>\n",
       "      <td>...</td>\n",
       "      <td>...</td>\n",
       "    </tr>\n",
       "    <tr>\n",
       "      <th>787</th>\n",
       "      <td>32</td>\n",
       "      <td>Right</td>\n",
       "      <td>OtherFace_10</td>\n",
       "      <td>2</td>\n",
       "      <td>-8.873539</td>\n",
       "    </tr>\n",
       "    <tr>\n",
       "      <th>788</th>\n",
       "      <td>32</td>\n",
       "      <td>Left</td>\n",
       "      <td>OwnFace</td>\n",
       "      <td>2</td>\n",
       "      <td>-7.088844</td>\n",
       "    </tr>\n",
       "    <tr>\n",
       "      <th>789</th>\n",
       "      <td>32</td>\n",
       "      <td>Right</td>\n",
       "      <td>OwnFace</td>\n",
       "      <td>2</td>\n",
       "      <td>-10.745552</td>\n",
       "    </tr>\n",
       "    <tr>\n",
       "      <th>790</th>\n",
       "      <td>32</td>\n",
       "      <td>Left</td>\n",
       "      <td>JoeFace</td>\n",
       "      <td>2</td>\n",
       "      <td>-6.427030</td>\n",
       "    </tr>\n",
       "    <tr>\n",
       "      <th>791</th>\n",
       "      <td>32</td>\n",
       "      <td>Right</td>\n",
       "      <td>JoeFace</td>\n",
       "      <td>2</td>\n",
       "      <td>-16.277541</td>\n",
       "    </tr>\n",
       "  </tbody>\n",
       "</table>\n",
       "<p>1584 rows × 5 columns</p>\n",
       "</div>"
      ],
      "text/plain": [
       "     number Hemisphere     Condition  PART        AMP\n",
       "0         0       Left   OtherFace_1     1  -3.834377\n",
       "1         0      Right   OtherFace_1     1  -4.614921\n",
       "2         0       Left   OtherFace_2     1  -4.583709\n",
       "3         0      Right   OtherFace_2     1  -7.705107\n",
       "4         0       Left   OtherFace_3     1  -3.695441\n",
       "..      ...        ...           ...   ...        ...\n",
       "787      32      Right  OtherFace_10     2  -8.873539\n",
       "788      32       Left       OwnFace     2  -7.088844\n",
       "789      32      Right       OwnFace     2 -10.745552\n",
       "790      32       Left       JoeFace     2  -6.427030\n",
       "791      32      Right       JoeFace     2 -16.277541\n",
       "\n",
       "[1584 rows x 5 columns]"
      ]
     },
     "execution_count": 15,
     "metadata": {},
     "output_type": "execute_result"
    }
   ],
   "source": [
    "concated_data"
   ]
  },
  {
   "cell_type": "code",
   "execution_count": 25,
   "metadata": {},
   "outputs": [],
   "source": [
    "aovrm3way = AnovaRM(concated_data, 'AMP',subject='number', within= ['Hemisphere', 'Condition', 'PART'])"
   ]
  },
  {
   "cell_type": "code",
   "execution_count": 26,
   "metadata": {},
   "outputs": [],
   "source": [
    "res3way = aovrm3way.fit()"
   ]
  },
  {
   "cell_type": "code",
   "execution_count": 27,
   "metadata": {},
   "outputs": [
    {
     "name": "stdout",
     "output_type": "stream",
     "text": [
      "                          Anova\n",
      "=========================================================\n",
      "                          F Value  Num DF  Den DF  Pr > F\n",
      "---------------------------------------------------------\n",
      "Hemisphere                 8.9355  1.0000  32.0000 0.0053\n",
      "Condition                  2.5542 11.0000 352.0000 0.0040\n",
      "PART                      47.0629  1.0000  32.0000 0.0000\n",
      "Hemisphere:Condition       1.3473 11.0000 352.0000 0.1966\n",
      "Hemisphere:PART            6.0363  1.0000  32.0000 0.0196\n",
      "Condition:PART             1.1406 11.0000 352.0000 0.3283\n",
      "Hemisphere:Condition:PART  1.0613 11.0000 352.0000 0.3920\n",
      "=========================================================\n",
      "\n"
     ]
    }
   ],
   "source": [
    "print(res3way)"
   ]
  },
  {
   "cell_type": "code",
   "execution_count": 30,
   "metadata": {},
   "outputs": [
    {
     "data": {
      "text/plain": [
       "ShapiroResult(statistic=0.9968864321708679, pvalue=0.128255695104599)"
      ]
     },
     "execution_count": 30,
     "metadata": {},
     "output_type": "execute_result"
    }
   ],
   "source": [
    "import scipy.stats\n",
    "scipy.stats.shapiro(data_part2['AMP'])"
   ]
  },
  {
   "cell_type": "code",
   "execution_count": null,
   "metadata": {},
   "outputs": [],
   "source": []
  }
 ],
 "metadata": {
  "kernelspec": {
   "display_name": "Python 3.8.8 ('base')",
   "language": "python",
   "name": "python3"
  },
  "language_info": {
   "codemirror_mode": {
    "name": "ipython",
    "version": 3
   },
   "file_extension": ".py",
   "mimetype": "text/x-python",
   "name": "python",
   "nbconvert_exporter": "python",
   "pygments_lexer": "ipython3",
   "version": "3.8.8"
  },
  "orig_nbformat": 4,
  "vscode": {
   "interpreter": {
    "hash": "3ed695ad26f8d5f1293dce98a347c72fd779f35bb58c08f3d5c1f85f670c287e"
   }
  }
 },
 "nbformat": 4,
 "nbformat_minor": 2
}
