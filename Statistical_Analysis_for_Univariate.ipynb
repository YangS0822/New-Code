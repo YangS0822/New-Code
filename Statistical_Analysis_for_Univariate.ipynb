{
 "cells": [
  {
   "cell_type": "code",
   "execution_count": 1,
   "metadata": {},
   "outputs": [],
   "source": [
    "import pandas as pd\n",
    "from statsmodels.stats.anova import AnovaRM\n",
    "import os\n",
    "import numpy as np\n",
    "from Globals import *"
   ]
  },
  {
   "cell_type": "code",
   "execution_count": 2,
   "metadata": {},
   "outputs": [],
   "source": [
    "os.chdir('/Volumes/Media/毕业论文/实验一_分析/One_Third_split/evks_csv/Amp&Latency/')"
   ]
  },
  {
   "cell_type": "code",
   "execution_count": null,
   "metadata": {},
   "outputs": [],
   "source": [
    "# PART 1\n",
    "### REFORMAT THE DATA\n",
    "data = pd.read_csv('N170_LAT_1_3.csv', index_col= 0)\n",
    "REFORMAT_DATA = pd.DataFrame(columns=['number', 'Hemisphere', 'Condition', 'PART','LAT'])\n",
    "for sub in data.index:\n",
    "    for col in data.columns:\n",
    "        for cond in condition_list:\n",
    "            if cond in str(col):\n",
    "                Condition = cond\n",
    "        if 'Left' in str(col):\n",
    "            Hemisphere = 'Left'\n",
    "        elif 'Right' in str(col):\n",
    "            Hemisphere = 'Right'\n",
    "        LAT = data.loc[sub][col]\n",
    "        ### PART ⬇️\n",
    "        PART = 1\n",
    "        number = sub\n",
    "    \n",
    "        REFORMAT_DATA.loc[len(REFORMAT_DATA.index)] = [number,Hemisphere,Condition,PART,LAT]\n"
   ]
  },
  {
   "cell_type": "code",
   "execution_count": null,
   "metadata": {},
   "outputs": [],
   "source": [
    "os.chdir('Reformat_for_Scripts')\n",
    "REFORMAT_DATA.to_csv('N170_1_3_LAT.csv')"
   ]
  },
  {
   "cell_type": "code",
   "execution_count": null,
   "metadata": {},
   "outputs": [],
   "source": [
    "# PART 2\n",
    "\n",
    "### REFORMAT THE DATA\n",
    "os.chdir('/Volumes/Media/毕业论文/实验一_分析/One_Third_split/evks_csv/Amp&Latency/')\n",
    "data = pd.read_csv('N170_LAT_2_3.csv', index_col= 0)\n",
    "\n",
    "\n",
    "REFORMAT_DATA = pd.DataFrame(columns=['number', 'Hemisphere', 'Condition', 'PART','LAT'])\n",
    "for sub in data.index:\n",
    "    for col in data.columns:\n",
    "        for cond in condition_list:\n",
    "            if cond in str(col):\n",
    "                Condition = cond\n",
    "        if 'Left' in str(col):\n",
    "            Hemisphere = 'Left'\n",
    "        elif 'Right' in str(col):\n",
    "            Hemisphere = 'Right'\n",
    "        LAT = data.loc[sub][col]\n",
    "        ### PART ⬇️\n",
    "        PART = 2\n",
    "        number = sub\n",
    "    \n",
    "        REFORMAT_DATA.loc[len(REFORMAT_DATA.index)] = [number,Hemisphere,Condition,PART,LAT]\n",
    "\n",
    "\n",
    "os.chdir('Reformat_for_Scripts')\n",
    "REFORMAT_DATA.to_csv('N170_2_3_LAT.csv')"
   ]
  },
  {
   "cell_type": "code",
   "execution_count": 3,
   "metadata": {},
   "outputs": [],
   "source": [
    "\n",
    "import pingouin as pg\n",
    "os.chdir('/Volumes/Media/毕业论文/实验一_分析/One_THird_split/evks_csv/Amp&Latency/Reformat_for_Scripts')\n",
    "data_part1 = pd.read_csv('N170_1_3_LAT.csv', index_col= 0)\n",
    "data_part2 = pd.read_csv('N170_2_3_LAT.csv', index_col= 0)"
   ]
  },
  {
   "cell_type": "code",
   "execution_count": 4,
   "metadata": {},
   "outputs": [],
   "source": [
    "concated_data = pd.concat([data_part1,data_part2], axis = 0)"
   ]
  },
  {
   "cell_type": "code",
   "execution_count": 5,
   "metadata": {},
   "outputs": [],
   "source": [
    "concated_data.to_csv('N170_LAT_OTS_3Split.csv')"
   ]
  },
  {
   "cell_type": "code",
   "execution_count": null,
   "metadata": {},
   "outputs": [],
   "source": [
    "# RE FORMAT DATA\n",
    "\n",
    "concated_data.reset_index(drop= True, inplace = True)\n",
    "concated_data['Grouped_Condition'] = 'DEFAULT'\n",
    "for ind in concated_data.index:\n",
    "    if 'OtherFace_' in str(concated_data.iloc[ind,2]):\n",
    "        concated_data.at[ind,'Grouped_Condition'] = 'OtherFace'\n",
    "    if 'Own' in str(concated_data.iloc[ind,2]):\n",
    "        concated_data.at[ind,'Grouped_Condition'] = 'OwnFace'\n",
    "    if 'Joe' in str(concated_data.iloc[ind,2]):\n",
    "        concated_data.at[ind,'Grouped_Condition'] = 'JoeFace'"
   ]
  },
  {
   "cell_type": "code",
   "execution_count": null,
   "metadata": {},
   "outputs": [],
   "source": [
    "OTHER_DATA = concated_data[concated_data['Grouped_Condition'] == 'OtherFace']"
   ]
  },
  {
   "cell_type": "code",
   "execution_count": null,
   "metadata": {},
   "outputs": [],
   "source": [
    "OTHER_avged_data = pd.DataFrame(columns= ['number','Hemisphere', 'Condition', 'PART', 'AMP', 'Grouped_Condition'])\n",
    "for sub in OTHER_DATA.number.value_counts().index:\n",
    "    sub_data = OTHER_DATA[OTHER_DATA['number'] == sub]\n",
    "\n",
    "    \n",
    "    PART1_data = sub_data[sub_data['PART'] == 1]\n",
    "    PART2_data = sub_data[sub_data['PART'] == 2]\n",
    "\n",
    "    ### THE LEFT DATA OF PART 1 AND 2\n",
    "    PART1_sub_left_mean = PART1_data[PART1_data['Hemisphere'] == 'Left'].AMP.mean()\n",
    "    PART2_sub_left_mean = PART2_data[PART2_data['Hemisphere'] == 'Left'].AMP.mean()\n",
    "    Hemisphere = 'Left'\n",
    "    Condition = 'OtherFace'\n",
    "    OTHER_avged_data.loc[len(OTHER_avged_data.index)] = [sub, Hemisphere, Condition, '1', PART1_sub_left_mean,'OtherFace']\n",
    "    OTHER_avged_data.loc[len(OTHER_avged_data.index)] = [sub, Hemisphere, Condition, '2', PART2_sub_left_mean,'OtherFace']\n",
    "\n",
    "    ### THE RIGHT DATA OF PART 1 AND 2\n",
    "    PART1_sub_right_mean = PART1_data[PART1_data['Hemisphere'] == 'Right'].AMP.mean()\n",
    "    PART2_sub_right_mean = PART2_data[PART2_data['Hemisphere'] == 'Right'].AMP.mean() \n",
    "    Hemisphere = 'Right'\n",
    "    Condition = 'OtherFace'\n",
    "    OTHER_avged_data.loc[len(OTHER_avged_data.index)] = [sub, Hemisphere, Condition, '1', PART1_sub_right_mean,'OtherFace']\n",
    "    OTHER_avged_data.loc[len(OTHER_avged_data.index)] = [sub, Hemisphere, Condition, '2', PART2_sub_right_mean,'OtherFace']\n",
    "\n",
    "\n",
    "\n",
    "    "
   ]
  },
  {
   "cell_type": "code",
   "execution_count": null,
   "metadata": {},
   "outputs": [],
   "source": [
    "OTHER_avged_data"
   ]
  },
  {
   "cell_type": "code",
   "execution_count": null,
   "metadata": {},
   "outputs": [],
   "source": [
    "concated_data.drop(concated_data[concated_data['Grouped_Condition'] == 'OtherFace'].index, inplace= True)"
   ]
  },
  {
   "cell_type": "code",
   "execution_count": null,
   "metadata": {},
   "outputs": [],
   "source": [
    "pd.concat([concated_data, OTHER_avged_data]).to_csv('N250_HS_3COND.csv')"
   ]
  },
  {
   "cell_type": "code",
   "execution_count": 6,
   "metadata": {},
   "outputs": [
    {
     "data": {
      "text/html": [
       "<div>\n",
       "<style scoped>\n",
       "    .dataframe tbody tr th:only-of-type {\n",
       "        vertical-align: middle;\n",
       "    }\n",
       "\n",
       "    .dataframe tbody tr th {\n",
       "        vertical-align: top;\n",
       "    }\n",
       "\n",
       "    .dataframe thead th {\n",
       "        text-align: right;\n",
       "    }\n",
       "</style>\n",
       "<table border=\"1\" class=\"dataframe\">\n",
       "  <thead>\n",
       "    <tr style=\"text-align: right;\">\n",
       "      <th></th>\n",
       "      <th>number</th>\n",
       "      <th>Hemisphere</th>\n",
       "      <th>Condition</th>\n",
       "      <th>PART</th>\n",
       "      <th>LAT</th>\n",
       "    </tr>\n",
       "  </thead>\n",
       "  <tbody>\n",
       "    <tr>\n",
       "      <th>0</th>\n",
       "      <td>0</td>\n",
       "      <td>Left</td>\n",
       "      <td>OtherFace_1</td>\n",
       "      <td>1</td>\n",
       "      <td>171.5</td>\n",
       "    </tr>\n",
       "    <tr>\n",
       "      <th>1</th>\n",
       "      <td>0</td>\n",
       "      <td>Right</td>\n",
       "      <td>OtherFace_1</td>\n",
       "      <td>1</td>\n",
       "      <td>153.5</td>\n",
       "    </tr>\n",
       "    <tr>\n",
       "      <th>2</th>\n",
       "      <td>0</td>\n",
       "      <td>Left</td>\n",
       "      <td>OtherFace_2</td>\n",
       "      <td>1</td>\n",
       "      <td>189.0</td>\n",
       "    </tr>\n",
       "    <tr>\n",
       "      <th>3</th>\n",
       "      <td>0</td>\n",
       "      <td>Right</td>\n",
       "      <td>OtherFace_2</td>\n",
       "      <td>1</td>\n",
       "      <td>157.5</td>\n",
       "    </tr>\n",
       "    <tr>\n",
       "      <th>4</th>\n",
       "      <td>0</td>\n",
       "      <td>Left</td>\n",
       "      <td>OtherFace_3</td>\n",
       "      <td>1</td>\n",
       "      <td>171.5</td>\n",
       "    </tr>\n",
       "    <tr>\n",
       "      <th>...</th>\n",
       "      <td>...</td>\n",
       "      <td>...</td>\n",
       "      <td>...</td>\n",
       "      <td>...</td>\n",
       "      <td>...</td>\n",
       "    </tr>\n",
       "    <tr>\n",
       "      <th>787</th>\n",
       "      <td>32</td>\n",
       "      <td>Right</td>\n",
       "      <td>OtherFace_10</td>\n",
       "      <td>2</td>\n",
       "      <td>143.5</td>\n",
       "    </tr>\n",
       "    <tr>\n",
       "      <th>788</th>\n",
       "      <td>32</td>\n",
       "      <td>Left</td>\n",
       "      <td>OwnFace</td>\n",
       "      <td>2</td>\n",
       "      <td>133.0</td>\n",
       "    </tr>\n",
       "    <tr>\n",
       "      <th>789</th>\n",
       "      <td>32</td>\n",
       "      <td>Right</td>\n",
       "      <td>OwnFace</td>\n",
       "      <td>2</td>\n",
       "      <td>141.5</td>\n",
       "    </tr>\n",
       "    <tr>\n",
       "      <th>790</th>\n",
       "      <td>32</td>\n",
       "      <td>Left</td>\n",
       "      <td>JoeFace</td>\n",
       "      <td>2</td>\n",
       "      <td>153.0</td>\n",
       "    </tr>\n",
       "    <tr>\n",
       "      <th>791</th>\n",
       "      <td>32</td>\n",
       "      <td>Right</td>\n",
       "      <td>JoeFace</td>\n",
       "      <td>2</td>\n",
       "      <td>145.0</td>\n",
       "    </tr>\n",
       "  </tbody>\n",
       "</table>\n",
       "<p>1584 rows × 5 columns</p>\n",
       "</div>"
      ],
      "text/plain": [
       "     number Hemisphere     Condition  PART    LAT\n",
       "0         0       Left   OtherFace_1     1  171.5\n",
       "1         0      Right   OtherFace_1     1  153.5\n",
       "2         0       Left   OtherFace_2     1  189.0\n",
       "3         0      Right   OtherFace_2     1  157.5\n",
       "4         0       Left   OtherFace_3     1  171.5\n",
       "..      ...        ...           ...   ...    ...\n",
       "787      32      Right  OtherFace_10     2  143.5\n",
       "788      32       Left       OwnFace     2  133.0\n",
       "789      32      Right       OwnFace     2  141.5\n",
       "790      32       Left       JoeFace     2  153.0\n",
       "791      32      Right       JoeFace     2  145.0\n",
       "\n",
       "[1584 rows x 5 columns]"
      ]
     },
     "execution_count": 6,
     "metadata": {},
     "output_type": "execute_result"
    }
   ],
   "source": [
    "concated_data"
   ]
  },
  {
   "cell_type": "code",
   "execution_count": 7,
   "metadata": {},
   "outputs": [],
   "source": [
    "OTHER_data = concated_data[concated_data['Condition'] == 'OtherFace_1']"
   ]
  },
  {
   "cell_type": "code",
   "execution_count": 8,
   "metadata": {},
   "outputs": [],
   "source": [
    "Joe_data = concated_data[concated_data['Condition'] == 'JoeFace']\n",
    "Own_data = concated_data[concated_data['Condition'] == 'OwnFace']"
   ]
  },
  {
   "cell_type": "code",
   "execution_count": 9,
   "metadata": {},
   "outputs": [],
   "source": [
    "Other_1_3COND = pd.concat([OTHER_data, Joe_data, Own_data])"
   ]
  },
  {
   "cell_type": "code",
   "execution_count": 10,
   "metadata": {},
   "outputs": [],
   "source": [
    "Other_1_3COND.to_csv('N170_LAT_OTS_O1_R.csv')"
   ]
  },
  {
   "cell_type": "code",
   "execution_count": 11,
   "metadata": {},
   "outputs": [
    {
     "data": {
      "text/plain": [
       "OtherFace_1    132\n",
       "JoeFace        132\n",
       "OwnFace        132\n",
       "Name: Condition, dtype: int64"
      ]
     },
     "execution_count": 11,
     "metadata": {},
     "output_type": "execute_result"
    }
   ],
   "source": [
    "Other_1_3COND.Condition.value_counts()"
   ]
  },
  {
   "cell_type": "code",
   "execution_count": 12,
   "metadata": {},
   "outputs": [
    {
     "data": {
      "text/html": [
       "<div>\n",
       "<style scoped>\n",
       "    .dataframe tbody tr th:only-of-type {\n",
       "        vertical-align: middle;\n",
       "    }\n",
       "\n",
       "    .dataframe tbody tr th {\n",
       "        vertical-align: top;\n",
       "    }\n",
       "\n",
       "    .dataframe thead th {\n",
       "        text-align: right;\n",
       "    }\n",
       "</style>\n",
       "<table border=\"1\" class=\"dataframe\">\n",
       "  <thead>\n",
       "    <tr style=\"text-align: right;\">\n",
       "      <th></th>\n",
       "      <th>number</th>\n",
       "      <th>Hemisphere</th>\n",
       "      <th>Condition</th>\n",
       "      <th>PART</th>\n",
       "      <th>LAT</th>\n",
       "    </tr>\n",
       "  </thead>\n",
       "  <tbody>\n",
       "    <tr>\n",
       "      <th>0</th>\n",
       "      <td>0</td>\n",
       "      <td>Left</td>\n",
       "      <td>OtherFace_1</td>\n",
       "      <td>1</td>\n",
       "      <td>171.5</td>\n",
       "    </tr>\n",
       "    <tr>\n",
       "      <th>1</th>\n",
       "      <td>0</td>\n",
       "      <td>Right</td>\n",
       "      <td>OtherFace_1</td>\n",
       "      <td>1</td>\n",
       "      <td>153.5</td>\n",
       "    </tr>\n",
       "    <tr>\n",
       "      <th>24</th>\n",
       "      <td>1</td>\n",
       "      <td>Left</td>\n",
       "      <td>OtherFace_1</td>\n",
       "      <td>1</td>\n",
       "      <td>138.5</td>\n",
       "    </tr>\n",
       "    <tr>\n",
       "      <th>25</th>\n",
       "      <td>1</td>\n",
       "      <td>Right</td>\n",
       "      <td>OtherFace_1</td>\n",
       "      <td>1</td>\n",
       "      <td>143.0</td>\n",
       "    </tr>\n",
       "    <tr>\n",
       "      <th>48</th>\n",
       "      <td>2</td>\n",
       "      <td>Left</td>\n",
       "      <td>OtherFace_1</td>\n",
       "      <td>1</td>\n",
       "      <td>172.5</td>\n",
       "    </tr>\n",
       "    <tr>\n",
       "      <th>...</th>\n",
       "      <td>...</td>\n",
       "      <td>...</td>\n",
       "      <td>...</td>\n",
       "      <td>...</td>\n",
       "      <td>...</td>\n",
       "    </tr>\n",
       "    <tr>\n",
       "      <th>741</th>\n",
       "      <td>30</td>\n",
       "      <td>Right</td>\n",
       "      <td>OwnFace</td>\n",
       "      <td>2</td>\n",
       "      <td>132.5</td>\n",
       "    </tr>\n",
       "    <tr>\n",
       "      <th>764</th>\n",
       "      <td>31</td>\n",
       "      <td>Left</td>\n",
       "      <td>OwnFace</td>\n",
       "      <td>2</td>\n",
       "      <td>149.0</td>\n",
       "    </tr>\n",
       "    <tr>\n",
       "      <th>765</th>\n",
       "      <td>31</td>\n",
       "      <td>Right</td>\n",
       "      <td>OwnFace</td>\n",
       "      <td>2</td>\n",
       "      <td>150.0</td>\n",
       "    </tr>\n",
       "    <tr>\n",
       "      <th>788</th>\n",
       "      <td>32</td>\n",
       "      <td>Left</td>\n",
       "      <td>OwnFace</td>\n",
       "      <td>2</td>\n",
       "      <td>133.0</td>\n",
       "    </tr>\n",
       "    <tr>\n",
       "      <th>789</th>\n",
       "      <td>32</td>\n",
       "      <td>Right</td>\n",
       "      <td>OwnFace</td>\n",
       "      <td>2</td>\n",
       "      <td>141.5</td>\n",
       "    </tr>\n",
       "  </tbody>\n",
       "</table>\n",
       "<p>396 rows × 5 columns</p>\n",
       "</div>"
      ],
      "text/plain": [
       "     number Hemisphere    Condition  PART    LAT\n",
       "0         0       Left  OtherFace_1     1  171.5\n",
       "1         0      Right  OtherFace_1     1  153.5\n",
       "24        1       Left  OtherFace_1     1  138.5\n",
       "25        1      Right  OtherFace_1     1  143.0\n",
       "48        2       Left  OtherFace_1     1  172.5\n",
       "..      ...        ...          ...   ...    ...\n",
       "741      30      Right      OwnFace     2  132.5\n",
       "764      31       Left      OwnFace     2  149.0\n",
       "765      31      Right      OwnFace     2  150.0\n",
       "788      32       Left      OwnFace     2  133.0\n",
       "789      32      Right      OwnFace     2  141.5\n",
       "\n",
       "[396 rows x 5 columns]"
      ]
     },
     "execution_count": 12,
     "metadata": {},
     "output_type": "execute_result"
    }
   ],
   "source": [
    "Other_1_3COND"
   ]
  },
  {
   "cell_type": "code",
   "execution_count": null,
   "metadata": {},
   "outputs": [],
   "source": []
  }
 ],
 "metadata": {
  "kernelspec": {
   "display_name": "Python 3.8.8 ('base')",
   "language": "python",
   "name": "python3"
  },
  "language_info": {
   "codemirror_mode": {
    "name": "ipython",
    "version": 3
   },
   "file_extension": ".py",
   "mimetype": "text/x-python",
   "name": "python",
   "nbconvert_exporter": "python",
   "pygments_lexer": "ipython3",
   "version": "3.8.8"
  },
  "orig_nbformat": 4,
  "vscode": {
   "interpreter": {
    "hash": "3ed695ad26f8d5f1293dce98a347c72fd779f35bb58c08f3d5c1f85f670c287e"
   }
  }
 },
 "nbformat": 4,
 "nbformat_minor": 2
}
