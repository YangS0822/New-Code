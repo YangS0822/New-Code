{
 "cells": [
  {
   "cell_type": "code",
   "execution_count": null,
   "metadata": {},
   "outputs": [],
   "source": [
    "import numpy as np\n",
    "import pandas as pd\n",
    "import matplotlib.pyplot as plt\n",
    "import os\n",
    "%matplotlib qt\n",
    "import seaborn as sns\n",
    "import sklearn \n",
    "import mne\n",
    "\n",
    "Sublist_exp1 = ['1','2','5','6','8','9','10','11','12','13','14','15','17','18','19','21','22','23','24','25','26','27','28','29',\\\n",
    "    '31','32','33','34','35','37','38','39','40']\n",
    "\n",
    "PATH = '/Volumes/Media/毕业论文/实验一_分析/Half_split/Sub_data'"
   ]
  },
  {
   "cell_type": "code",
   "execution_count": null,
   "metadata": {},
   "outputs": [],
   "source": [
    "mvpa_epo_dict = {}\n",
    "for sub in Sublist_exp1:\n",
    "    os.chdir(PATH)\n",
    "    os.chdir('Sub_0' + sub)\n",
    "    testepo = mne.read_epochs('epochs_all_epo.fif', preload = True)\n",
    "    mvpa_epo = testepo['JoeFace', 'OwnFace']\n",
    "    mvpa_epo_dict[sub] = mvpa_epo\n",
    "    print(mvpa_epo.get_data().shape)\n",
    "# epoch 实例 get_data() 后得到的是 3-Dimension 的数组，(epoch，电极，时间点)"
   ]
  },
  {
   "cell_type": "code",
   "execution_count": null,
   "metadata": {},
   "outputs": [],
   "source": [
    "concated_epochs_mvpa = mne.concatenate_epochs(list(mvpa_epo_dict.values()))"
   ]
  },
  {
   "cell_type": "code",
   "execution_count": null,
   "metadata": {},
   "outputs": [],
   "source": [
    "concated_epochs_mvpa.equalize_event_counts(concated_epochs_mvpa.event_id)"
   ]
  },
  {
   "cell_type": "code",
   "execution_count": null,
   "metadata": {},
   "outputs": [],
   "source": [
    "# create classifier\n",
    "# create vector y\n",
    "\n",
    "y = np.empty(len(concated_epochs_mvpa.events), dtype = int)\n",
    "\n",
    "# dicide which trials are \"Own\" and which are \"Other\"\n",
    "idx_own = \n"
   ]
  },
  {
   "cell_type": "code",
   "execution_count": 1,
   "metadata": {},
   "outputs": [
    {
     "ename": "NameError",
     "evalue": "name 'concated_epochs_mvpa' is not defined",
     "output_type": "error",
     "traceback": [
      "\u001b[0;31m---------------------------------------------------------------------------\u001b[0m",
      "\u001b[0;31mNameError\u001b[0m                                 Traceback (most recent call last)",
      "\u001b[0;32m/var/folders/46/q563pnw55bjcvsn5bdg3h4t80000gn/T/ipykernel_32860/3854646102.py\u001b[0m in \u001b[0;36m<module>\u001b[0;34m\u001b[0m\n\u001b[0;32m----> 1\u001b[0;31m \u001b[0mconcated_epochs_mvpa\u001b[0m\u001b[0;34m.\u001b[0m\u001b[0mevents\u001b[0m\u001b[0;34m\u001b[0m\u001b[0;34m\u001b[0m\u001b[0m\n\u001b[0m",
      "\u001b[0;31mNameError\u001b[0m: name 'concated_epochs_mvpa' is not defined"
     ]
    }
   ],
   "source": [
    "concated_epochs_mvpa.events"
   ]
  },
  {
   "cell_type": "code",
   "execution_count": null,
   "metadata": {},
   "outputs": [],
   "source": []
  }
 ],
 "metadata": {
  "kernelspec": {
   "display_name": "Python 3.8.8 ('base')",
   "language": "python",
   "name": "python3"
  },
  "language_info": {
   "codemirror_mode": {
    "name": "ipython",
    "version": 3
   },
   "file_extension": ".py",
   "mimetype": "text/x-python",
   "name": "python",
   "nbconvert_exporter": "python",
   "pygments_lexer": "ipython3",
   "version": "3.8.8"
  },
  "orig_nbformat": 4,
  "vscode": {
   "interpreter": {
    "hash": "3ed695ad26f8d5f1293dce98a347c72fd779f35bb58c08f3d5c1f85f670c287e"
   }
  }
 },
 "nbformat": 4,
 "nbformat_minor": 2
}
