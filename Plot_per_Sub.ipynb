{
 "cells": [
  {
   "cell_type": "code",
   "execution_count": null,
   "metadata": {},
   "outputs": [],
   "source": [
    "import mne\n",
    "import numpy as np\n",
    "import pandas as pd\n",
    "import matplotlib.pyplot as plt\n",
    "from Globals import *\n",
    "import os\n"
   ]
  },
  {
   "cell_type": "code",
   "execution_count": null,
   "metadata": {},
   "outputs": [],
   "source": [
    "\n",
    "\n",
    "for sub in Sublist_exp2:\n",
    "    os.chdir('/Volumes/Media/毕业论文/实验2数据/pre')\n",
    "    filename = 'Sub_0' + sub\n",
    "    os.chdir(filename)\n",
    "    first_epo = mne.read_epochs('1_3_epochs_epo.fif', preload= True)\n",
    "    second_epo = mne.read_epochs('2_3_epochs_epo.fif', preload= True)\n",
    "    Joe_1_evk = first_epo['JoeFace'].average()\n",
    "    Joe_2_evk = second_epo['JoeFace'].average()\n",
    "    Own_1_evk = first_epo['OwnFace'].average()\n",
    "    Own_2_evk = second_epo['OwnFace'].average()\n",
    "    Other_1_evk = first_epo['OtherFace_1'].average()\n",
    "    Other_2_evk = first_epo['OtherFace_2'].average()\n",
    "\n",
    "    Joe_1_evk_plot = Joe_1_evk.plot(picks=['TP9', 'P7', 'PO7',  'O1','TP10', 'P8', 'PO8' , 'O2'])\n",
    "    Joe_2_evk_plot = Joe_2_evk.plot(picks=['TP9', 'P7', 'PO7',  'O1','TP10', 'P8', 'PO8' , 'O2'])\n",
    "    Own_1_evk_plot = Own_1_evk.plot(picks=['TP9', 'P7', 'PO7',  'O1','TP10', 'P8', 'PO8' , 'O2'])\n",
    "    Own_2_evk_plot = Own_2_evk.plot(picks=['TP9', 'P7', 'PO7',  'O1','TP10', 'P8', 'PO8' , 'O2'])\n",
    "    Other_1_evk_plot = Other_1_evk.plot(picks=['TP9', 'P7', 'PO7',  'O1','TP10', 'P8', 'PO8' , 'O2'])\n",
    "    Other_2_evk_plot = Other_2_evk.plot(picks=['TP9', 'P7', 'PO7',  'O1','TP10', 'P8', 'PO8' , 'O2'])\n",
    "\n",
    "\n",
    "\n",
    "\n",
    "\n",
    "    os.chdir('/Volumes/Media/毕业论文/实验二_分析/Half_Split/plot_per_sub')\n",
    "    if os.path.exists(filename) == True:\n",
    "        os.chdir(filename)\n",
    "    else:\n",
    "        os.makedirs(filename)\n",
    "        os.chdir(filename)\n",
    "    \n",
    "    Joe_1_evk_plot.savefig(fname = 'Joe_1_evk_joint.svg')\n",
    "    Joe_2_evk_plot.savefig(fname = 'Joe_2_evk_joint.svg')\n",
    "    Own_1_evk_plot.savefig(fname = 'Own_1_evk_joint.svg')\n",
    "    Own_2_evk_plot.savefig(fname = 'Own_2_evk_joint.svg')\n",
    "    Other_1_evk_plot.savefig(fname = 'Other_1_evk_joint.svg')\n",
    "    Other_2_evk_plot.savefig(fname = 'Other_2_evk_joint.svg')\n",
    "\n",
    "\n",
    "    \n",
    "    \n",
    "\n",
    "        \n",
    "\n",
    "\n",
    "    \n",
    "    \n",
    "    "
   ]
  },
  {
   "cell_type": "code",
   "execution_count": null,
   "metadata": {},
   "outputs": [],
   "source": []
  }
 ],
 "metadata": {
  "interpreter": {
   "hash": "3ed695ad26f8d5f1293dce98a347c72fd779f35bb58c08f3d5c1f85f670c287e"
  },
  "kernelspec": {
   "display_name": "Python 3.8.8 64-bit ('base': conda)",
   "name": "python3"
  },
  "language_info": {
   "codemirror_mode": {
    "name": "ipython",
    "version": 3
   },
   "file_extension": ".py",
   "mimetype": "text/x-python",
   "name": "python",
   "nbconvert_exporter": "python",
   "pygments_lexer": "ipython3",
   "version": "3.8.8"
  },
  "orig_nbformat": 4
 },
 "nbformat": 4,
 "nbformat_minor": 2
}
