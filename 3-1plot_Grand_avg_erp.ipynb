{
 "cells": [
  {
   "cell_type": "code",
   "execution_count": 1,
   "metadata": {},
   "outputs": [],
   "source": [
    "### 需要执行第四步\n",
    "\n",
    "import numpy as np\n",
    "import pandas as pd\n",
    "import seaborn\n",
    "import os\n",
    "import matplotlib.pyplot as plt\n",
    "from Globals import *\n",
    "%matplotlib qt\n",
    "import seaborn as sns\n",
    "\n",
    "#PATH_PART_A = '/Volumes/Media/毕业论文/实验二_分析/Half_Split/evks_csv/1_2'\n",
    "#PATH_PART_B = '/Volumes/Media/毕业论文/实验二_分析/Half_Split/evks_csv/2_2'\n",
    "\n",
    "PATH_PART_A = '/Volumes/Media/毕业论文/实验一_分析/One_Third_split/evks_csv/1_3'\n",
    "PATH_PART_B = '/Volumes/Media/毕业论文/实验一_分析/One_Third_split/evks_csv/2_3'"
   ]
  },
  {
   "cell_type": "code",
   "execution_count": null,
   "metadata": {},
   "outputs": [],
   "source": [
    "# 获取完整数据_N170 or N250\n",
    "\n",
    "# N170 calc\n",
    "os.chdir(path=PATH_PART_A)\n",
    "vertical_data_1_2 = {}\n",
    "for cond in condition_list:\n",
    "    os.chdir(PATH_PART_A + '/' + cond)\n",
    "    cond_vertical_data = pd.DataFrame()\n",
    "    for sub in Sublist_exp1:\n",
    "        sub_data = pd.read_csv(str(sub) + '.csv', index_col=0)\n",
    "        sub_data['Left_Mean'] = (sub_data['PO7'] + sub_data['P7'])/2\n",
    "        sub_data['Right_Mean'] = (sub_data['PO8'] + sub_data['P8'])/2\n",
    "        cond_vertical_data = pd.concat([cond_vertical_data, sub_data], axis=0)\n",
    "    vertical_data_1_2[cond] = cond_vertical_data\n",
    "\n",
    "\n",
    "os.chdir(path=PATH_PART_B)\n",
    "vertical_data_2_2 = {}\n",
    "for cond in condition_list:\n",
    "    os.chdir(PATH_PART_B + '/' + cond)\n",
    "    cond_vertical_data = pd.DataFrame()\n",
    "    for sub in Sublist_exp1:\n",
    "        sub_data = pd.read_csv(str(sub) + '.csv', index_col=0)\n",
    "        sub_data['Left_Mean'] = (sub_data['PO7'] + sub_data['P7'])/2\n",
    "        sub_data['Right_Mean'] = (sub_data['PO8'] + sub_data['P8'])/2\n",
    "        cond_vertical_data = pd.concat([cond_vertical_data, sub_data], axis=0)\n",
    "    vertical_data_2_2[cond] = cond_vertical_data \n"
   ]
  },
  {
   "cell_type": "code",
   "execution_count": 2,
   "metadata": {},
   "outputs": [],
   "source": [
    "\n",
    "\n",
    "# N250 calc\n",
    "os.chdir(path= PATH_PART_A)\n",
    "vertical_data_1_2 = {}\n",
    "for cond in condition_list:\n",
    "    os.chdir(PATH_PART_A + '/' + cond)\n",
    "    cond_vertical_data = pd.DataFrame()\n",
    "    for sub in Sublist_exp1:\n",
    "        sub_data = pd.read_csv(str(sub) + '.csv', index_col= 0)\n",
    "        sub_data['Left_Mean'] = (sub_data['P7'] + sub_data['PO7'] + sub_data['TP9']  + sub_data['O1'])/4\n",
    "        sub_data['Right_Mean'] = (sub_data['PO8'] + sub_data['P8'] + sub_data['TP10'] + sub_data['O2'])/4\n",
    "        cond_vertical_data = pd.concat([cond_vertical_data, sub_data], axis= 0)\n",
    "    vertical_data_1_2[cond] = cond_vertical_data\n",
    "\n",
    "del sub_data\n",
    "del cond\n",
    "\n",
    "        \n",
    "    \n",
    "os.chdir(path= PATH_PART_B)\n",
    "vertical_data_2_2 = {}\n",
    "for cond in condition_list:\n",
    "    os.chdir(PATH_PART_B + '/' + cond)\n",
    "    cond_vertical_data = pd.DataFrame()\n",
    "    for sub in Sublist_exp1:\n",
    "        sub_data = pd.read_csv(str(sub) + '.csv', index_col= 0)\n",
    "        sub_data['Left_Mean'] = (sub_data['P7'] + sub_data['PO7'] + sub_data['TP9'] + sub_data['O1'])/4\n",
    "        sub_data['Right_Mean'] = (sub_data['PO8'] + sub_data['P8'] + sub_data['TP10']  + sub_data['O2'])/4\n",
    "        cond_vertical_data = pd.concat([cond_vertical_data, sub_data], axis= 0)\n",
    "    vertical_data_2_2[cond] = cond_vertical_data\n",
    "\n",
    "    \n",
    "    "
   ]
  },
  {
   "cell_type": "code",
   "execution_count": 3,
   "metadata": {},
   "outputs": [],
   "source": [
    "fig, ax = plt.subplots()\n",
    "sns.lineplot(data = vertical_data_1_2['JoeFace'].reset_index(), x = 'time', y = 'Left_Mean', ci = 68, ax = ax, color = 'salmon', label = 'Joe_1_Left')\n",
    "sns.lineplot(data = vertical_data_1_2['JoeFace'].reset_index(), x = 'time', y = 'Right_Mean', ci = 68, ax = ax, color = 'tomato', label = 'Joe_1_Right')\n",
    "sns.lineplot(data = vertical_data_2_2['JoeFace'].reset_index(), x = 'time', y = 'Left_Mean', ci = 68, ax = ax, color = 'deepskyblue',label = 'Joe_2_Left')\n",
    "sns.lineplot(data = vertical_data_2_2['JoeFace'].reset_index(), x = 'time', y= 'Right_Mean', ci = 68, ax = ax, color = 'steelblue',label = 'Joe_2_Right')\n",
    "plt.axvline(x = 110, linestyle = '--', c = 'black', linewidth = 1)\n",
    "plt.axvline(x = 190, linestyle = '--', c = 'black', linewidth = 1)\n",
    "plt.axvline(x = 230, linestyle = '--', c = 'black', linewidth = 1)\n",
    "plt.axvline(x = 320, linestyle = '--', c = 'black', linewidth = 1)\n",
    "plt.legend()\n",
    "plt.show()"
   ]
  },
  {
   "cell_type": "code",
   "execution_count": 4,
   "metadata": {},
   "outputs": [],
   "source": [
    "fig, ax = plt.subplots()\n",
    "sns.lineplot(data = vertical_data_1_2['OwnFace'].reset_index(), x = 'time', y = 'Left_Mean', ci = 68, ax = ax, color = 'salmon',label = 'Own_1_Left')\n",
    "sns.lineplot(data = vertical_data_1_2['OwnFace'].reset_index(), x = 'time', y = 'Right_Mean', ci = 68, ax = ax, color = 'tomato',label = 'Own_1_Right')\n",
    "sns.lineplot(data = vertical_data_2_2['OwnFace'].reset_index(), x = 'time', y = 'Left_Mean', ci = 68, ax = ax, color = 'deepskyblue',label = 'Own_2_Left')\n",
    "sns.lineplot(data = vertical_data_2_2['OwnFace'].reset_index(), x = 'time', y= 'Right_Mean', ci = 68, ax = ax, color = 'steelblue',label = 'Own_2_Right')\n",
    "plt.axvline(x = 110, linestyle = '--', c = 'black', linewidth = 1)\n",
    "plt.axvline(x = 190, linestyle = '--', c = 'black', linewidth = 1)\n",
    "plt.axvline(x = 230, linestyle = '--', c = 'black', linewidth = 1)\n",
    "plt.axvline(x = 320, linestyle = '--', c = 'black', linewidth = 1)\n",
    "plt.legend()\n",
    "plt.show()"
   ]
  },
  {
   "cell_type": "code",
   "execution_count": 5,
   "metadata": {},
   "outputs": [
    {
     "name": "stderr",
     "output_type": "stream",
     "text": [
      "2022-09-23 15:37:11.477 python[68499:24684628] Warning: Window move completed without beginning\n"
     ]
    }
   ],
   "source": [
    "fig, ax = plt.subplots()\n",
    "sns.lineplot(data = vertical_data_1_2['OtherFace_1'].reset_index(), x = 'time', y = 'Left_Mean', ci = 68, ax = ax, color = 'salmon',label = 'Other_1_Left')\n",
    "sns.lineplot(data = vertical_data_1_2['OtherFace_1'].reset_index(), x = 'time', y = 'Right_Mean', ci = 68, ax = ax, color = 'tomato',label = 'Other_1_Right')\n",
    "sns.lineplot(data = vertical_data_2_2['OtherFace_1'].reset_index(), x = 'time', y = 'Left_Mean', ci = 68, ax = ax, color = 'deepskyblue',label = 'Other_2_Left')\n",
    "sns.lineplot(data = vertical_data_2_2['OtherFace_1'].reset_index(), x = 'time', y= 'Right_Mean', ci = 68, ax = ax, color = 'steelblue',label = 'Other_2_Right')\n",
    "plt.axvline(x = 110, linestyle = '--', c = 'black', linewidth = 1)\n",
    "plt.axvline(x = 190, linestyle = '--', c = 'black', linewidth = 1)\n",
    "plt.axvline(x = 230, linestyle = '--', c = 'black', linewidth = 1)\n",
    "plt.axvline(x = 320, linestyle = '--', c = 'black', linewidth = 1)\n",
    "plt.legend()\n",
    "plt.show()"
   ]
  },
  {
   "cell_type": "code",
   "execution_count": 6,
   "metadata": {},
   "outputs": [
    {
     "name": "stderr",
     "output_type": "stream",
     "text": [
      "2022-09-23 15:38:09.081 python[68499:24684628] Warning: Window move completed without beginning\n",
      "2022-09-23 15:38:13.047 python[68499:24684628] Warning: Window move completed without beginning\n"
     ]
    }
   ],
   "source": [
    "# Joe vs. Own Part 2\n",
    "\n",
    "fig, ax = plt.subplots()\n",
    "\n",
    "sns.lineplot(data = vertical_data_2_2['OwnFace'].reset_index(), x = 'time', y = 'Left_Mean', ci = 68, ax = ax, color = 'deepskyblue',label = 'Own_2_Left')\n",
    "sns.lineplot(data = vertical_data_2_2['OwnFace'].reset_index(), x = 'time', y= 'Right_Mean', ci = 68, ax = ax, color = 'steelblue',label = 'Own_2_Right')\n",
    "\n",
    "sns.lineplot(data = vertical_data_2_2['JoeFace'].reset_index(), x = 'time', y = 'Left_Mean', ci = 68, ax = ax, color = 'salmon',label = 'Joe_2_Left')\n",
    "sns.lineplot(data = vertical_data_2_2['JoeFace'].reset_index(), x = 'time', y= 'Right_Mean', ci = 68, ax = ax, color = 'tomato',label = 'Joe_2_Right')\n",
    "\n",
    "plt.axvline(x = 110, linestyle = '--', c = 'black', linewidth = 1)\n",
    "plt.axvline(x = 190, linestyle = '--', c = 'black', linewidth = 1)\n",
    "plt.axvline(x = 230, linestyle = '--', c = 'black', linewidth = 1)\n",
    "plt.axvline(x = 320, linestyle = '--', c = 'black', linewidth = 1)\n",
    "\n",
    "\n",
    "plt.legend()\n",
    "plt.show()"
   ]
  },
  {
   "cell_type": "code",
   "execution_count": 7,
   "metadata": {},
   "outputs": [
    {
     "name": "stderr",
     "output_type": "stream",
     "text": [
      "2022-09-23 15:39:04.676 python[68499:24684628] Warning: Window move completed without beginning\n"
     ]
    }
   ],
   "source": [
    "# Joe vs. Own Part 1\n",
    "\n",
    "fig, ax = plt.subplots()\n",
    "\n",
    "sns.lineplot(data = vertical_data_1_2['OwnFace'].reset_index(), x = 'time', y = 'Left_Mean', ci = 68, ax = ax, color = 'deepskyblue',label = 'Own_1_Left')\n",
    "sns.lineplot(data = vertical_data_1_2['OwnFace'].reset_index(), x = 'time', y= 'Right_Mean', ci = 68, ax = ax, color = 'steelblue',label = 'Own_1_Right')\n",
    "\n",
    "sns.lineplot(data = vertical_data_1_2['JoeFace'].reset_index(), x = 'time', y = 'Left_Mean', ci = 68, ax = ax, color = 'salmon',label = 'Joe_1_Left')\n",
    "sns.lineplot(data = vertical_data_1_2['JoeFace'].reset_index(), x = 'time', y= 'Right_Mean', ci = 68, ax = ax, color = 'tomato',label = 'Joe_1_Right')\n",
    "\n",
    "plt.axvline(x = 110, linestyle = '--', c = 'black', linewidth = 1)\n",
    "plt.axvline(x = 190, linestyle = '--', c = 'black', linewidth = 1)\n",
    "plt.axvline(x = 230, linestyle = '--', c = 'black', linewidth = 1)\n",
    "plt.axvline(x = 320, linestyle = '--', c = 'black', linewidth = 1)\n",
    "\n",
    "\n",
    "plt.legend()\n",
    "plt.show()"
   ]
  },
  {
   "cell_type": "code",
   "execution_count": 8,
   "metadata": {},
   "outputs": [
    {
     "name": "stderr",
     "output_type": "stream",
     "text": [
      "2022-09-23 15:40:21.797 python[68499:24684628] Warning: Window move completed without beginning\n"
     ]
    }
   ],
   "source": [
    "#Three_cond_Part2\n",
    "\n",
    "fig, ax = plt.subplots()\n",
    "\n",
    "sns.lineplot(data = vertical_data_2_2['OwnFace'].reset_index(), x = 'time', y = 'Left_Mean', ci = 68, ax = ax, color = 'deepskyblue',label = 'Own_2_Left')\n",
    "sns.lineplot(data = vertical_data_2_2['OwnFace'].reset_index(), x = 'time', y= 'Right_Mean', ci = 68, ax = ax, color = 'steelblue',label = 'Own_2_Right')\n",
    "\n",
    "sns.lineplot(data = vertical_data_2_2['JoeFace'].reset_index(), x = 'time', y = 'Left_Mean', ci = 68, ax = ax, color = 'salmon',label = 'Joe_2_Left')\n",
    "sns.lineplot(data = vertical_data_2_2['JoeFace'].reset_index(), x = 'time', y= 'Right_Mean', ci = 68, ax = ax, color = 'tomato',label = 'Joe_2_Right')\n",
    "\n",
    "sns.lineplot(data = vertical_data_2_2['OtherFace_1'].reset_index(), x = 'time', y = 'Left_Mean', ci = 68, ax = ax, color = 'palegreen',label = 'Other_2_Left')\n",
    "sns.lineplot(data = vertical_data_2_2['OtherFace_1'].reset_index(), x = 'time', y= 'Right_Mean', ci = 68, ax = ax, color = 'darkolivegreen',label = 'Other_2_Right')\n",
    "\n",
    "plt.axvline(x = 110, linestyle = '--', c = 'black', linewidth = 1)\n",
    "plt.axvline(x = 190, linestyle = '--', c = 'black', linewidth = 1)\n",
    "plt.axvline(x = 230, linestyle = '--', c = 'black', linewidth = 1)\n",
    "plt.axvline(x = 320, linestyle = '--', c = 'black', linewidth = 1)\n",
    "\n",
    "\n",
    "plt.legend()\n",
    "plt.show()"
   ]
  },
  {
   "cell_type": "code",
   "execution_count": 9,
   "metadata": {},
   "outputs": [
    {
     "name": "stderr",
     "output_type": "stream",
     "text": [
      "2022-09-23 15:41:36.243 python[68499:24684628] Warning: Window move completed without beginning\n"
     ]
    }
   ],
   "source": [
    "#Three cond part 1\n",
    "\n",
    "fig, ax = plt.subplots()\n",
    "\n",
    "sns.lineplot(data = vertical_data_1_2['OwnFace'].reset_index(), x = 'time', y = 'Left_Mean', ci = 68, ax = ax, color = 'deepskyblue',label = 'Own_1_Left')\n",
    "sns.lineplot(data = vertical_data_1_2['OwnFace'].reset_index(), x = 'time', y= 'Right_Mean', ci = 68, ax = ax, color = 'steelblue',label = 'Own_1_Right')\n",
    "\n",
    "sns.lineplot(data = vertical_data_1_2['JoeFace'].reset_index(), x = 'time', y = 'Left_Mean', ci = 68, ax = ax, color = 'salmon',label = 'Joe_1_Left')\n",
    "sns.lineplot(data = vertical_data_1_2['JoeFace'].reset_index(), x = 'time', y= 'Right_Mean', ci = 68, ax = ax, color = 'tomato',label = 'Joe_1_Right')\n",
    "\n",
    "sns.lineplot(data = vertical_data_1_2['OtherFace_1'].reset_index(), x = 'time', y = 'Left_Mean', ci = 68, ax = ax, color = 'palegreen',label = 'Other_1_Left')\n",
    "sns.lineplot(data = vertical_data_1_2['OtherFace_1'].reset_index(), x = 'time', y= 'Right_Mean', ci = 68, ax = ax, color = 'darkolivegreen',label = 'Other_1_Right')\n",
    "\n",
    "plt.axvline(x = 110, linestyle = '--', c = 'black', linewidth = 1)\n",
    "plt.axvline(x = 190, linestyle = '--', c = 'black', linewidth = 1)\n",
    "plt.axvline(x = 230, linestyle = '--', c = 'black', linewidth = 1)\n",
    "plt.axvline(x = 320, linestyle = '--', c = 'black', linewidth = 1)\n",
    "\n",
    "\n",
    "plt.legend()\n",
    "plt.show()"
   ]
  },
  {
   "cell_type": "code",
   "execution_count": null,
   "metadata": {},
   "outputs": [],
   "source": []
  }
 ],
 "metadata": {
  "kernelspec": {
   "display_name": "Python 3.8.8 ('base')",
   "language": "python",
   "name": "python3"
  },
  "language_info": {
   "codemirror_mode": {
    "name": "ipython",
    "version": 3
   },
   "file_extension": ".py",
   "mimetype": "text/x-python",
   "name": "python",
   "nbconvert_exporter": "python",
   "pygments_lexer": "ipython3",
   "version": "3.8.8"
  },
  "orig_nbformat": 4,
  "vscode": {
   "interpreter": {
    "hash": "3ed695ad26f8d5f1293dce98a347c72fd779f35bb58c08f3d5c1f85f670c287e"
   }
  }
 },
 "nbformat": 4,
 "nbformat_minor": 2
}
