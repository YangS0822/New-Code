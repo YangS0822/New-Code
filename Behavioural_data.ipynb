{
 "cells": [
  {
   "cell_type": "code",
   "execution_count": null,
   "metadata": {},
   "outputs": [],
   "source": [
    "import numpy as np\n",
    "import pandas as pd\n",
    "import matplotlib.pyplot as plt\n",
    "import seaborn as sns\n",
    "from Globals import *\n",
    "import os\n",
    "import mne\n",
    "PATH = '/Volumes/Media/毕业论文/实验一/EEGs'"
   ]
  },
  {
   "cell_type": "code",
   "execution_count": null,
   "metadata": {},
   "outputs": [],
   "source": [
    "os.chdir(PATH)\n",
    "RT_dict = {}\n",
    "for sub in Sublist_exp1:      \n",
    "    file_path = PATH + '/' + 'Sub_0' + sub\n",
    "    os.chdir(file_path)\n",
    "    raw = mne.io.read_raw_brainvision('0' + sub + '.vhdr')\n",
    "    events, eventid = mne.events_from_annotations(raw)\n",
    "    reaction_time_list = get_rt_time(events)\n",
    "    RT_dict['Sub' + sub] = reaction_time_list"
   ]
  },
  {
   "cell_type": "code",
   "execution_count": null,
   "metadata": {},
   "outputs": [],
   "source": [
    "rt_df = pd.DataFrame.from_dict(RT_dict,orient= 'index')\n",
    "rt_df = rt_df.transpose()\n",
    "for i in rt_df.index:\n",
    "    for c in rt_df.columns:\n",
    "        if rt_df[c][i] < 0:\n",
    "            rt_df[c][i] = rt_df[c].mean()\n",
    "            print(i)\n",
    "            print(c)\n",
    "            print(rt_df[c][i])"
   ]
  },
  {
   "cell_type": "code",
   "execution_count": null,
   "metadata": {},
   "outputs": [],
   "source": [
    "%matplotlib qt\n",
    "for subject in rt_df.columns:\n",
    "    sns.regplot(x = rt_df.index, y = rt_df[subject],scatter_kws={'s': 0.1},line_kws={'linestyle':'-'}, ci = 95)\n",
    "plt.xlabel('Trial_number')\n",
    "plt.ylabel('Reaction Time(ms)')"
   ]
  },
  {
   "cell_type": "code",
   "execution_count": null,
   "metadata": {},
   "outputs": [],
   "source": [
    "def get_accuracy(events):\n",
    "    events_df = pd.DataFrame(events, columns= ['Time', 'Filler', 'Marker'])\n",
    "    marker_counts = pd.DataFrame(events_df['Marker'].value_counts())\n",
    "    accuracy = marker_counts.loc[1].values/864\n",
    "\n",
    "    return accuracy"
   ]
  },
  {
   "cell_type": "code",
   "execution_count": null,
   "metadata": {},
   "outputs": [],
   "source": [
    "os.chdir(PATH)\n",
    "ACC_dict = {}\n",
    "for sub in Sublist_exp1:      \n",
    "    file_path = PATH + '/' + 'Sub_0' + sub\n",
    "    os.chdir(file_path)\n",
    "    raw = mne.io.read_raw_brainvision('0' + sub + '.vhdr')\n",
    "    events, eventid = mne.events_from_annotations(raw)\n",
    "    acc_for_1_sub = get_accuracy(events)\n",
    "    ACC_dict['Sub' + sub] = acc_for_1_sub\n",
    "\n",
    "ACC_data = pd.DataFrame(ACC_dict)\n"
   ]
  },
  {
   "cell_type": "code",
   "execution_count": null,
   "metadata": {},
   "outputs": [],
   "source": [
    "ACC_data.loc[0].min()"
   ]
  },
  {
   "cell_type": "code",
   "execution_count": null,
   "metadata": {},
   "outputs": [],
   "source": []
  }
 ],
 "metadata": {
  "kernelspec": {
   "display_name": "Python 3.8.8 ('base')",
   "language": "python",
   "name": "python3"
  },
  "language_info": {
   "codemirror_mode": {
    "name": "ipython",
    "version": 3
   },
   "file_extension": ".py",
   "mimetype": "text/x-python",
   "name": "python",
   "nbconvert_exporter": "python",
   "pygments_lexer": "ipython3",
   "version": "3.8.8"
  },
  "orig_nbformat": 4,
  "vscode": {
   "interpreter": {
    "hash": "3ed695ad26f8d5f1293dce98a347c72fd779f35bb58c08f3d5c1f85f670c287e"
   }
  }
 },
 "nbformat": 4,
 "nbformat_minor": 2
}
