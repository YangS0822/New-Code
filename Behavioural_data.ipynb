{
 "cells": [
  {
   "cell_type": "code",
   "execution_count": 2,
   "metadata": {},
   "outputs": [],
   "source": [
    "import numpy as np\n",
    "import pandas as pd\n",
    "import matplotlib.pyplot as plt\n",
    "import seaborn as sns\n",
    "from Globals import *\n",
    "import os\n",
    "import mne\n",
    "PATH = 'A'"
   ]
  },
  {
   "cell_type": "code",
   "execution_count": null,
   "metadata": {},
   "outputs": [],
   "source": [
    "def get_rt_time(events, )"
   ]
  },
  {
   "cell_type": "code",
   "execution_count": null,
   "metadata": {},
   "outputs": [],
   "source": [
    "os.chdir(PATH)\n",
    "RT_dict = {}\n",
    "for sub in Sublist_exp1:      \n",
    "    file_path = PATH + '/' + 'Sub_0' + sub\n",
    "    os.chdir(file_path)\n",
    "    raw = mne.io.read_raw_brainvision('0' + sub + '.vhdr')\n",
    "    events, eventid = mne.events_from_annotations(raw)\n",
    "    reaction_time_list = get_rt_time(events)\n",
    "    RT_dict['Sub' + sub] = reaction_time_list"
   ]
  }
 ],
 "metadata": {
  "kernelspec": {
   "display_name": "Python 3.8.8 ('base')",
   "language": "python",
   "name": "python3"
  },
  "language_info": {
   "codemirror_mode": {
    "name": "ipython",
    "version": 3
   },
   "file_extension": ".py",
   "mimetype": "text/x-python",
   "name": "python",
   "nbconvert_exporter": "python",
   "pygments_lexer": "ipython3",
   "version": "3.8.8"
  },
  "orig_nbformat": 4,
  "vscode": {
   "interpreter": {
    "hash": "3ed695ad26f8d5f1293dce98a347c72fd779f35bb58c08f3d5c1f85f670c287e"
   }
  }
 },
 "nbformat": 4,
 "nbformat_minor": 2
}
