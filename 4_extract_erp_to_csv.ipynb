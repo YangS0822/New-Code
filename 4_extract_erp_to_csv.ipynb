{
 "cells": [
  {
   "cell_type": "code",
   "execution_count": null,
   "metadata": {},
   "outputs": [],
   "source": [
    "import numpy as np\n",
    "import pandas as pd\n",
    "import matplotlib.pyplot as plt\n",
    "import os\n",
    "%matplotlib qt\n",
    "import mne\n",
    "from Globals import *\n",
    "\n",
    "print(Sublist_exp2)"
   ]
  },
  {
   "cell_type": "code",
   "execution_count": null,
   "metadata": {},
   "outputs": [],
   "source": [
    "# Export Evokes to Dataframe - .csv - for further analysis\n",
    "\n",
    "All_Sub_1_2_evks = {}\n",
    "All_Sub_2_2_evks = {}\n",
    "\n",
    "# Read epochs from two different parts. 1/2 vs. 2/2 or 1/3 vs. 2/3.\n",
    "for Sub in Sublist_exp2:\n",
    "    os.chdir('/Volumes/Media/毕业论文/实验2数据/pre/Sub_0' + Sub)\n",
    "    epoch_1_2 = mne.read_epochs('1_3_epochs_epo.fif',preload=True)\n",
    "    epoch_2_2 = mne.read_epochs('2_3_epochs_epo.fif', preload=True)\n",
    "    evk_1_2 = {}\n",
    "    evk_2_2 = {}\n",
    "    for i in list(epoch_1_2.event_id.keys()):\n",
    "        evk_1_2[i]= epoch_1_2[i].average()\n",
    "        evk_2_2[i] = epoch_2_2[i].average()\n",
    "    All_Sub_1_2_evks[Sub] = evk_1_2\n",
    "    All_Sub_2_2_evks[Sub] = evk_2_2\n",
    "\n",
    "#condition evk : A dictionary includes dictionaries for each condition\n",
    "#               in each condition's dictionary, it includes all participants' data.\n",
    "condition_evk_1_2 = {}\n",
    "for cond in condition_list:\n",
    "    Ind_condition_evks = {}\n",
    "    for Sub in All_Sub_1_2_evks.keys():\n",
    "        Ind_evks = All_Sub_1_2_evks[Sub]\n",
    "        Ind_condition_evks[Sub] = Ind_evks[cond]\n",
    "    condition_evk_1_2[cond] = Ind_condition_evks\n",
    "\n",
    "\n",
    "condition_evk_2_2 = {}\n",
    "for cond in condition_list:\n",
    "    Ind_condition_evks = {}\n",
    "    for Sub in All_Sub_2_2_evks.keys():\n",
    "        Ind_evks = All_Sub_2_2_evks[Sub]\n",
    "        Ind_condition_evks[Sub] = Ind_evks[cond]\n",
    "    condition_evk_2_2[cond] = Ind_condition_evks\n",
    "    \n"
   ]
  },
  {
   "cell_type": "code",
   "execution_count": null,
   "metadata": {},
   "outputs": [],
   "source": [
    "os.chdir('/Volumes/Media/毕业论文/实验二_分析/One_Third_Split/evks_csv/1_3')\n",
    "for cond in condition_evk_1_2.keys():\n",
    "    os.chdir('/Volumes/Media/毕业论文/实验二_分析/One_Third_Split/evks_csv/1_3')\n",
    "    os.mkdir(str(cond))\n",
    "    os.chdir(str(cond))\n",
    "    for sub in condition_evk_1_2[cond].keys():\n",
    "        per_evk = condition_evk_1_2[cond][sub]\n",
    "        per_evk =per_evk.to_data_frame()\n",
    "        per_evk.to_csv(str(sub) + '.csv')"
   ]
  },
  {
   "cell_type": "code",
   "execution_count": null,
   "metadata": {},
   "outputs": [],
   "source": [
    "os.chdir('/Volumes/Media/毕业论文/实验二_分析/One_Third_Split/evks_csv/2_3')\n",
    "for cond in condition_evk_2_2.keys():\n",
    "    os.chdir('/Volumes/Media/毕业论文/实验二_分析/One_Third_Split/evks_csv/2_3')\n",
    "    os.mkdir(str(cond))\n",
    "    os.chdir(str(cond))\n",
    "    for sub in condition_evk_2_2[cond].keys():\n",
    "        per_evk = condition_evk_2_2[cond][sub]\n",
    "        per_evk =per_evk.to_data_frame()\n",
    "        per_evk.to_csv(str(sub) + '.csv')\n",
    "        "
   ]
  },
  {
   "cell_type": "code",
   "execution_count": null,
   "metadata": {},
   "outputs": [],
   "source": []
  }
 ],
 "metadata": {
  "kernelspec": {
   "display_name": "Python 3.8.8 ('base')",
   "language": "python",
   "name": "python3"
  },
  "language_info": {
   "codemirror_mode": {
    "name": "ipython",
    "version": 3
   },
   "file_extension": ".py",
   "mimetype": "text/x-python",
   "name": "python",
   "nbconvert_exporter": "python",
   "pygments_lexer": "ipython3",
   "version": "3.8.8"
  },
  "orig_nbformat": 4,
  "vscode": {
   "interpreter": {
    "hash": "3ed695ad26f8d5f1293dce98a347c72fd779f35bb58c08f3d5c1f85f670c287e"
   }
  }
 },
 "nbformat": 4,
 "nbformat_minor": 2
}
