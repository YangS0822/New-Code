{
 "cells": [
  {
   "cell_type": "code",
   "execution_count": null,
   "metadata": {},
   "outputs": [],
   "source": [
    "import numpy as np\n",
    "import pandas as pd\n",
    "import os\n",
    "import mne\n",
    "from Globals import *\n",
    "import matplotlib.pyplot as plt"
   ]
  },
  {
   "cell_type": "code",
   "execution_count": null,
   "metadata": {},
   "outputs": [],
   "source": [
    "Joe_N250_TS_dict = {}\n",
    "for sub in Sublist_exp1:\n",
    "    os.chdir('/Users/yangshi/Library/CloudStorage/OneDrive-个人/毕业论文/实验数据/实验一/EEGs/Sub_0' + str(sub))\n",
    "    epoch = mne.read_epochs('epochs_all_epo.fif', preload = True)\n",
    "    Joe_N250_TS = get_n250_time_series(epoch= epoch)\n",
    "    Joe_N250_TS_dict[sub] = Joe_N250_TS"
   ]
  },
  {
   "cell_type": "code",
   "execution_count": null,
   "metadata": {},
   "outputs": [],
   "source": []
  },
  {
   "cell_type": "code",
   "execution_count": null,
   "metadata": {},
   "outputs": [],
   "source": []
  }
 ],
 "metadata": {
  "kernelspec": {
   "display_name": "Python 3.8.8 ('base')",
   "language": "python",
   "name": "python3"
  },
  "language_info": {
   "codemirror_mode": {
    "name": "ipython",
    "version": 3
   },
   "file_extension": ".py",
   "mimetype": "text/x-python",
   "name": "python",
   "nbconvert_exporter": "python",
   "pygments_lexer": "ipython3",
   "version": "3.8.8"
  },
  "orig_nbformat": 4,
  "vscode": {
   "interpreter": {
    "hash": "3ed695ad26f8d5f1293dce98a347c72fd779f35bb58c08f3d5c1f85f670c287e"
   }
  }
 },
 "nbformat": 4,
 "nbformat_minor": 2
}
