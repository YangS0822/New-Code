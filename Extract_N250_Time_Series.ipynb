{
 "cells": [
  {
   "cell_type": "code",
   "execution_count": null,
   "metadata": {},
   "outputs": [],
   "source": [
    "import numpy as np\n",
    "import pandas as pd\n",
    "import os\n",
    "import mne\n",
    "from Globals import *\n",
    "import matplotlib.pyplot as plt"
   ]
  },
  {
   "cell_type": "code",
   "execution_count": null,
   "metadata": {},
   "outputs": [],
   "source": [
    "os.chdir('D:\\\\Onedrive\\\\毕业论文\\\\实验数据\\\\实验一\\\\EEGs')\n",
    "for sub in Sublist_exp1:\n",
    "    os.chdir('Sub_0' + str(sub))\n",
    "    sub_epo = mne.read_epochs('epochs_all_epo.fif', preload = True)\n",
    "    save_time_series(sub_epo)\n",
    "    os.chdir('D:\\\\Onedrive\\\\毕业论文\\\\实验数据\\\\实验一\\\\EEGs')\n",
    "    os.chdir('Sub_0' + str(sub))\n",
    "    save_time_series(sub_epo, target = 'OwnFace')\n",
    "    os.chdir('D:\\\\Onedrive\\\\毕业论文\\\\实验数据\\\\实验一\\\\EEGs')\n",
    "    os.chdir('Sub_0' + str(sub))\n",
    "    save_time_series(sub_epo, target = 'OtherFace_1')\n",
    "    os.chdir('D:\\\\Onedrive\\\\毕业论文\\\\实验数据\\\\实验一\\\\EEGs')"
   ]
  },
  {
   "cell_type": "code",
   "execution_count": null,
   "metadata": {},
   "outputs": [],
   "source": []
  }
 ],
 "metadata": {
  "kernelspec": {
   "display_name": "Python 3.8.5 ('base')",
   "language": "python",
   "name": "python3"
  },
  "language_info": {
   "codemirror_mode": {
    "name": "ipython",
    "version": 3
   },
   "file_extension": ".py",
   "mimetype": "text/x-python",
   "name": "python",
   "nbconvert_exporter": "python",
   "pygments_lexer": "ipython3",
   "version": "3.8.5"
  },
  "orig_nbformat": 4,
  "vscode": {
   "interpreter": {
    "hash": "ad2bdc8ecc057115af97d19610ffacc2b4e99fae6737bb82f5d7fb13d2f2c186"
   }
  }
 },
 "nbformat": 4,
 "nbformat_minor": 2
}
