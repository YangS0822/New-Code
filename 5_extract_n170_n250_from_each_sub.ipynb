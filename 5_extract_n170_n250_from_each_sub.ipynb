{
 "cells": [
  {
   "cell_type": "code",
   "execution_count": 1,
   "metadata": {},
   "outputs": [],
   "source": [
    "import numpy as np\n",
    "import pandas as pd\n",
    "import os\n",
    "from Globals import *\n",
    "import mne\n",
    "import matplotlib.pyplot as plt\n",
    "%matplotlib qt\n",
    "import seaborn as sns"
   ]
  },
  {
   "cell_type": "code",
   "execution_count": 4,
   "metadata": {},
   "outputs": [],
   "source": [
    "os.chdir('D:\\\\Onedrive\\\\毕业论文\\\\实验数据\\\\实验一\\\\evks_csv\\\\1_2')\n",
    "for cond in condition_list:\n",
    "    PATH = 'D:\\\\Onedrive\\\\毕业论文\\\\实验数据\\\\实验一\\\\evks_csv\\\\1_2' + '\\\\' + cond\n",
    "    os.chdir(PATH)\n",
    "    N170_amp_df = pd.DataFrame()\n",
    "    N170_latency_df = pd.DataFrame()\n",
    "    N250_amp_df = pd.DataFrame()\n",
    "\n",
    "    for sub in Sublist_exp1:\n",
    "        sub_data = pd.read_csv(str(sub) + '.csv', index_col= 0)\n",
    "        N170_sub_amp, N170_sub_latency = Calculate_latency_and_amplitude(data = sub_data, type='N170')\n",
    "        N250_sub_amp = Calculate_latency_and_amplitude(data = sub_data, type = 'N250')\n",
    "\n",
    "        N170_sub_amp_df = pd.DataFrame(N170_sub_amp, index= [sub])\n",
    "        N170_amp_df = pd.concat([N170_amp_df, N170_sub_amp_df])\n",
    "\n",
    "        N170_sub_latency_df = pd.DataFrame(N170_sub_latency, index = [sub])\n",
    "        N170_latency_df = pd.concat([N170_sub_latency_df, N170_latency_df])\n",
    "\n",
    "        N250_sub_amp_df = pd.DataFrame(N250_sub_amp, index = [sub])\n",
    "        N250_amp_df = pd.concat([N250_amp_df,N250_sub_amp_df])\n",
    "    \n",
    "    os.chdir('D:\\\\Onedrive\\\\毕业论文\\\\实验数据\\\\实验一\\\\evks_csv\\\\Amp&Latency\\\\1_2')\n",
    "    os.mkdir(cond)\n",
    "    os.chdir('D:\\\\Onedrive\\\\毕业论文\\\\实验数据\\\\实验一\\\\evks_csv\\\\Amp&Latency\\\\1_2\\\\' + cond)\n",
    "    N170_amp_df.to_csv('N170_amp.csv')\n",
    "    N170_latency_df.to_csv('N170_latency.csv')\n",
    "    N250_amp_df.to_csv('N250_amp.csv')\n",
    "\n",
    "\n"
   ]
  },
  {
   "cell_type": "code",
   "execution_count": 5,
   "metadata": {},
   "outputs": [],
   "source": [
    "os.chdir('D:\\\\Onedrive\\\\毕业论文\\\\实验数据\\\\实验一\\\\evks_csv\\\\2_2')\n",
    "for cond in condition_list:\n",
    "    PATH = 'D:\\\\Onedrive\\\\毕业论文\\\\实验数据\\\\实验一\\\\evks_csv\\\\2_2' + '\\\\' + cond\n",
    "    os.chdir(PATH)\n",
    "    N170_amp_df = pd.DataFrame()\n",
    "    N170_latency_df = pd.DataFrame()\n",
    "    N250_amp_df = pd.DataFrame()\n",
    "\n",
    "    for sub in Sublist_exp1:\n",
    "        sub_data = pd.read_csv(str(sub) + '.csv', index_col= 0)\n",
    "        N170_sub_amp, N170_sub_latency = Calculate_latency_and_amplitude(data = sub_data, type='N170')\n",
    "        N250_sub_amp = Calculate_latency_and_amplitude(data = sub_data, type = 'N250')\n",
    "\n",
    "        N170_sub_amp_df = pd.DataFrame(N170_sub_amp, index= [sub])\n",
    "        N170_amp_df = pd.concat([N170_amp_df, N170_sub_amp_df])\n",
    "\n",
    "        N170_sub_latency_df = pd.DataFrame(N170_sub_latency, index = [sub])\n",
    "        N170_latency_df = pd.concat([N170_sub_latency_df, N170_latency_df])\n",
    "\n",
    "        N250_sub_amp_df = pd.DataFrame(N250_sub_amp, index = [sub])\n",
    "        N250_amp_df = pd.concat([N250_amp_df,N250_sub_amp_df])\n",
    "    \n",
    "    os.chdir('D:\\\\Onedrive\\\\毕业论文\\\\实验数据\\\\实验一\\\\evks_csv\\\\Amp&Latency\\\\2_2')\n",
    "    os.mkdir(cond)\n",
    "    os.chdir('D:\\\\Onedrive\\\\毕业论文\\\\实验数据\\\\实验一\\\\evks_csv\\\\Amp&Latency\\\\2_2\\\\' + cond)\n",
    "    N170_amp_df.to_csv('N170_amp.csv')\n",
    "    N170_latency_df.to_csv('N170_latency.csv')\n",
    "    N250_amp_df.to_csv('N250_amp.csv')\n",
    "    \n",
    "\n"
   ]
  },
  {
   "cell_type": "code",
   "execution_count": 5,
   "metadata": {},
   "outputs": [],
   "source": [
    "\n"
   ]
  },
  {
   "cell_type": "code",
   "execution_count": null,
   "metadata": {},
   "outputs": [],
   "source": []
  }
 ],
 "metadata": {
  "kernelspec": {
   "display_name": "Python 3.8.5 ('base')",
   "language": "python",
   "name": "python3"
  },
  "language_info": {
   "codemirror_mode": {
    "name": "ipython",
    "version": 3
   },
   "file_extension": ".py",
   "mimetype": "text/x-python",
   "name": "python",
   "nbconvert_exporter": "python",
   "pygments_lexer": "ipython3",
   "version": "3.8.5"
  },
  "orig_nbformat": 4,
  "vscode": {
   "interpreter": {
    "hash": "ad2bdc8ecc057115af97d19610ffacc2b4e99fae6737bb82f5d7fb13d2f2c186"
   }
  }
 },
 "nbformat": 4,
 "nbformat_minor": 2
}
